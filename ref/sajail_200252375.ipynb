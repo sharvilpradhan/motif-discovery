{
 "cells": [
  {
   "cell_type": "markdown",
   "metadata": {},
   "source": [
    "Score:\n",
    "Accepts a set of motifs and calculates the total distance from the consensus motif.\n",
    "Total Distance = t*k - Consensus score, where t is the number of sequences, and k is the length of motif\n",
    "@param sample: Set of motifs, Array{String,1}\n",
    "@param k: length of motif, Int64"
   ]
  },
  {
   "cell_type": "code",
   "execution_count": 1,
   "metadata": {},
   "outputs": [
    {
     "data": {
      "text/plain": [
       "Score (generic function with 1 method)"
      ]
     },
     "execution_count": 1,
     "metadata": {},
     "output_type": "execute_result"
    }
   ],
   "source": [
    "function Score(sample, k)\n",
    "    t = length(sample)\n",
    "    score = 0\n",
    "    for i=1:k\n",
    "        count = Dict('A'=>0,'C'=>0,'G'=>0,'T'=>0)\n",
    "        for j=1:t\n",
    "            count[sample[j][i]] = count[sample[j][i]] + 1\n",
    "        end\n",
    "        max = 0\n",
    "        for each in count\n",
    "            if each[2]>max\n",
    "                max = each[2]\n",
    "            end\n",
    "        end\n",
    "        score = score+max\n",
    "    end\n",
    "    return k*t - score\n",
    "end"
   ]
  },
  {
   "cell_type": "markdown",
   "metadata": {},
   "source": [
    "Make_Profile:\n",
    "Creates a profile matrix for given set of motifs.\n",
    "Enabling pseudocounts calculates the profile using Laplace's rule of succession as described in the textbook, page no.88\n",
    "@param k: motif length, Int64\n",
    "@param t: number of motifs, Int 64\n",
    "@param k_mers: Set of motifs, Array{String, 1}\n",
    "@param pseudocounts: enable pseudocounts, Bool\n",
    "                   true: uses succession rule\n",
    "                   false: traditional profile"
   ]
  },
  {
   "cell_type": "code",
   "execution_count": 2,
   "metadata": {},
   "outputs": [
    {
     "data": {
      "text/plain": [
       "Make_Profile (generic function with 2 methods)"
      ]
     },
     "execution_count": 2,
     "metadata": {},
     "output_type": "execute_result"
    }
   ],
   "source": [
    "function Make_Profile(k, t, k_mers, pseudocounts = false)\n",
    "    pseudo = 0\n",
    "    if pseudocounts\n",
    "        pseudo = 1\n",
    "    end\n",
    "    count_matrix = zeros(Int16, 4, k)\n",
    "    for i in 1:k\n",
    "        for j in 1:t\n",
    "            c = k_mers[j][i]\n",
    "            if c == 'A'\n",
    "                count_matrix[1,i] = count_matrix[1,i] + 1\n",
    "            end\n",
    "            if c == 'C'\n",
    "                count_matrix[2,i] = count_matrix[2,i] + 1\n",
    "            end\n",
    "            if c == 'G'\n",
    "                count_matrix[3,i] = count_matrix[3,i] + 1\n",
    "            end\n",
    "            if c == 'T'\n",
    "                count_matrix[4,i] = count_matrix[4,i] + 1\n",
    "            end\n",
    "        end\n",
    "    end\n",
    "    profile_matrix = zeros(Float64, 4, k)\n",
    "    for i in 1:4\n",
    "        for j in 1:k\n",
    "            profile_matrix[i,j] = (count_matrix[i,j] + 1*pseudo)/(t + pseudo*4)\n",
    "        end\n",
    "    end\n",
    "    return profile_matrix\n",
    "end"
   ]
  },
  {
   "cell_type": "markdown",
   "metadata": {},
   "source": [
    "Get_Kmer:\n",
    "Returns new motif from the given sequence of DNA string\n",
    "Calculates the propability score for each possible motif from given string.\n",
    "Returns the k_mer with highest probability score if deterministic is enabled\n",
    "Returns a randomly chosen k_mer otherwise. The k_mer is chosen by rolling an unfair die, the higher the profile-probabilty of the k_mer, the higer probabilty of it being chosen.\n",
    "@param k: length of motif, Int64\n",
    "@param profile: Motif profile, Array{Float64, 4, t}\n",
    "@param DNAString: Set of input DNA sequences, Array{String, 1}\n",
    "@param deterministic: enables deterministic\n",
    "                    true: returns k_mer with highest profile-probability\n",
    "                    false: reutrns k_mer using profile-probability as weights for the unfair die"
   ]
  },
  {
   "cell_type": "code",
   "execution_count": 3,
   "metadata": {},
   "outputs": [
    {
     "data": {
      "text/plain": [
       "Get_Kmer (generic function with 1 method)"
      ]
     },
     "execution_count": 3,
     "metadata": {},
     "output_type": "execute_result"
    }
   ],
   "source": [
    "function Get_Kmer(k, profile, DNAString, deterministic)\n",
    "    n = length(DNAString)\n",
    "    probArray = zeros(Float64, 1, n-k)\n",
    "    pdfArray = zeros(Float64, 1, n-k)\n",
    "    probSum = 0\n",
    "    for i in 1:n-k\n",
    "        temp = DNAString[i:i+k-1]\n",
    "        tempArray = zeros(Int64, 1, k)\n",
    "        prob = 1.0\n",
    "        for j in 1:k\n",
    "            if temp[j] == 'A'\n",
    "                tempArray[j] = 1\n",
    "            end\n",
    "            if temp[j] == 'C'\n",
    "                tempArray[j] = 2\n",
    "            end\n",
    "            if temp[j] == 'G'\n",
    "                tempArray[j] = 3\n",
    "            end\n",
    "            if temp[j] == 'T'\n",
    "                tempArray[j] = 4\n",
    "            end\n",
    "            prob = prob * profile[tempArray[j], j]\n",
    "        end\n",
    "        probArray[i] = prob\n",
    "        probSum = probSum + prob\n",
    "    end\n",
    "\n",
    "    probArray[1] = probArray[1] / probSum\n",
    "    pdfArray[1] = probArray[1]\n",
    "    for i in 2:length(probArray)\n",
    "        probArray[i] = probArray[i] / probSum\n",
    "        pdfArray[i] = pdfArray[i-1] + probArray[i]\n",
    "    end\n",
    "    s=findmax(probArray)[1]\n",
    "    if (deterministic == true)\n",
    "        for i in 1:length(probArray)\n",
    "            if s == probArray[i]\n",
    "                println(i)\n",
    "                return(DNAString[i:i+k-1])\n",
    "            end\n",
    "        end\n",
    "    end\n",
    "    p = rand()\n",
    "    final = 1\n",
    "    for i in 1:length(pdfArray)\n",
    "        if (p < pdfArray[i])\n",
    "            final = i\n",
    "            break\n",
    "        end\n",
    "    end\n",
    "    #println(p)\n",
    "    #println(pdfArray)\n",
    "    #println(final)\n",
    "    return(DNAString[final:final+k-1])\n",
    "end"
   ]
  },
  {
   "cell_type": "markdown",
   "metadata": {},
   "source": [
    "GibbsSampler:\n",
    "Gibbs sampler to find motif of given length from given set of DNA sequences\n",
    "Uses Make_Profile function with 'pseudocounts' enabled to create profile\n",
    "Uses Get_Kmer function with 'deterministic' disabled to select a profile-randomly generated motif from selected sequence.\n",
    "Uses Score function to calculate total distance for a set of motifs and choose the better one.\n",
    "@param Dna: Set of input DNA sequences, Array{String, 1}\n",
    "@param k: length of motif, Int64\n",
    "@param t: number of sequences, Int64\n",
    "@param N: Number of trials to be conducted, Int64"
   ]
  },
  {
   "cell_type": "code",
   "execution_count": 4,
   "metadata": {},
   "outputs": [
    {
     "data": {
      "text/plain": [
       "GibbsSampler (generic function with 1 method)"
      ]
     },
     "execution_count": 4,
     "metadata": {},
     "output_type": "execute_result"
    }
   ],
   "source": [
    "function GibbsSampler(Dna, k, t, N)\n",
    "    n = length(Dna[1])\n",
    "    s = rand(t)*(n-k+1)\n",
    "    sTemp = zeros(Int64, 1, t)\n",
    "    k_mers = Array{String,1}(undef, t)\n",
    "    for i in 1:t\n",
    "        s[i] = s[i] + 1\n",
    "        sTemp[i] = trunc(Int64, s[i])\n",
    "        k_mers[i] = Dna[i][sTemp[i]:sTemp[i]+k-1]\n",
    "    end\n",
    "    BestMotifs = k_mers\n",
    "    for j in 1:N\n",
    "        i = trunc(Int64, rand()*t) + 1\n",
    "        tempMotifs = copy(BestMotifs)\n",
    "        Motifs = copy(tempMotifs)\n",
    "        Motifs = deleteat!(Motifs, i)\n",
    "        profile = Make_Profile(k, t - 1, k_mers, true)\n",
    "        newMotifAtI = Get_Kmer(k, profile, Dna[i], false)\n",
    "        tempMotifs[i] = newMotifAtI\n",
    "        score1 = Score(BestMotifs, k)\n",
    "        score2 = Score(tempMotifs, k)\n",
    "        if score2 < score1\n",
    "            BestMotifs = copy(tempMotifs)\n",
    "        end\n",
    "    end\n",
    "    return BestMotifs\n",
    "end"
   ]
  },
  {
   "cell_type": "markdown",
   "metadata": {},
   "source": [
    "Reads length of motif, number of sequences and the DNA sequences from the file \"test.txt\"\n",
    "Assumptions: \n",
    "1. All DNA sequences are of same length.\n",
    "2. Length of motif is less than length of each DNA sequence.\n",
    "3. number of sequnces is more than 1."
   ]
  },
  {
   "cell_type": "code",
   "execution_count": 11,
   "metadata": {},
   "outputs": [
    {
     "name": "stdout",
     "output_type": "stream",
     "text": [
      "GCCCCTCT\n",
      "GCCAAGGT\n",
      "ATACAGGC\n",
      "GATCAAGT\n",
      "CACCAGCT\n",
      "[\"CGCCCCTCTCGGGGGTGTTCAGTAAACGGCCA\", \"GGGCGAGGTATGTGTAAGTGCCAAGGTGCCAG\", \"TAGTACCGAGACCGAAAGAAGTATACAGGCGT\", \"TAGATCAAGTTTCAGGTGCACGTCGGTGAACC\", \"AATCCACCAGCTCCACGTGCAATGTTGGCCTA\"]\n",
      "8\n",
      "5\n",
      "14\n"
     ]
    }
   ],
   "source": [
    "open(\"test.txt\") do file\n",
    "    x = readline(file)\n",
    "    line1 = split(x,\" \")\n",
    "    k = parse(Int64, line1[1])\n",
    "    t = parse(Int64, line1[2])\n",
    "    N = parse(Int64, line1[3])\n",
    "    DNA = Array{String,1}(undef,t)\n",
    "    for i in 1:t\n",
    "        DNA[i] = readline(file)\n",
    "    end\n",
    "    Motif = GibbsSampler(DNA, k, t, N)\n",
    "    for each in Motif\n",
    "        println(each)\n",
    "    end\n",
    "    println(DNA)\n",
    "    println(k)\n",
    "    println(t)\n",
    "    println(Score(Motif, k))\n",
    "end"
   ]
  },
  {
   "cell_type": "code",
   "execution_count": null,
   "metadata": {},
   "outputs": [],
   "source": []
  },
  {
   "cell_type": "code",
   "execution_count": null,
   "metadata": {},
   "outputs": [],
   "source": []
  }
 ],
 "metadata": {
  "kernelspec": {
   "display_name": "Julia 1.0.0",
   "language": "julia",
   "name": "julia-1.0"
  },
  "language_info": {
   "file_extension": ".jl",
   "mimetype": "application/julia",
   "name": "julia",
   "version": "1.0.0"
  }
 },
 "nbformat": 4,
 "nbformat_minor": 2
}
