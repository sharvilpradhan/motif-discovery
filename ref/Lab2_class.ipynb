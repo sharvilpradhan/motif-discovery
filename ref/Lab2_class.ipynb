{
 "cells": [
  {
   "cell_type": "markdown",
   "metadata": {},
   "source": [
    "Brute Force Motif Search"
   ]
  },
  {
   "cell_type": "code",
   "execution_count": 4,
   "metadata": {},
   "outputs": [
    {
     "name": "stdout",
     "output_type": "stream",
     "text": [
      "3.0\n",
      "[1, 7, 2]\n",
      "ATA\n",
      "ATA\n",
      "ATA\n"
     ]
    }
   ],
   "source": [
    "DNA = [\"ATATATATAT\", \"TTTTTTATAT\", \"GATAAAAAAA\"]\n",
    "t=length(DNA)\n",
    "k=3\n",
    "l=length(DNA[1])-k+1\n",
    "\n",
    "function Score(DNA, t, k, ind)\n",
    "    sample = Array{String,1}(undef, t)\n",
    "    for j=1:t\n",
    "        #print(DNA[j][ind[j]:(ind[j]+k-1)]*\"\\n\")\n",
    "        sample[j] = DNA[j][ind[j]:(ind[j]+k-1)]\n",
    "    end\n",
    "    score = 0\n",
    "    for i=1:k\n",
    "        count = Dict('A'=>0,'C'=>0,'G'=>0,'T'=>0)\n",
    "        for j=1:t\n",
    "            count[sample[j][i]] = count[sample[j][i]] + 1\n",
    "        end\n",
    "        #print(count)\n",
    "        max = 0\n",
    "        for each in count\n",
    "            if each[2]>max\n",
    "                max = each[2]\n",
    "            end\n",
    "        end\n",
    "        #print(max)\n",
    "        #print(\"\\n\")\n",
    "        score = score+max\n",
    "    end\n",
    "    return score/k\n",
    "end\n",
    "\n",
    "\n",
    "ind=ones(Int64,t)\n",
    "finalind = ones(Int64,t)\n",
    "bestscore= Score(DNA, t, k, finalind)\n",
    "while true\n",
    "    # increased last element by one\n",
    "    ind[t] += 1\n",
    "    # looking at overflows from end to beginning\n",
    "    for i = t:-1:2 \n",
    "        if ind[i] > l\n",
    "            ind[i] = 1\n",
    "            ind[i-1] += 1\n",
    "        end\n",
    "    end\n",
    "    # if overflow in the first entry, stop\n",
    "    if ind[1] > l\n",
    "        break\n",
    "    end\n",
    "    score = Score(DNA, t, k, ind)\n",
    "    if bestscore < score\n",
    "        bestscore = score\n",
    "        finalind = copy(ind)\n",
    "    end\n",
    "    #print(score)\n",
    "    #print(\"\\n\")\n",
    "end\n",
    "print(bestscore)\n",
    "print(\"\\n\")\n",
    "print(finalind)\n",
    "print(\"\\n\")\n",
    "for j=1:t\n",
    "    print(DNA[j][finalind[j]:(finalind[j]+k-1)])\n",
    "    print(\"\\n\")\n",
    "end"
   ]
  },
  {
   "cell_type": "markdown",
   "metadata": {},
   "source": [
    "Please complete and revise the above program fragment."
   ]
  }
 ],
 "metadata": {
  "kernelspec": {
   "display_name": "Julia 1.0.0",
   "language": "julia",
   "name": "julia-1.0"
  },
  "language_info": {
   "file_extension": ".jl",
   "mimetype": "application/julia",
   "name": "julia",
   "version": "1.0.0"
  }
 },
 "nbformat": 4,
 "nbformat_minor": 2
}
