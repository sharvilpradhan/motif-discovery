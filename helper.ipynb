{
 "cells": [
  {
   "cell_type": "code",
   "execution_count": 4,
   "metadata": {},
   "outputs": [
    {
     "data": {
      "text/plain": [
       "crowdingDist (generic function with 1 method)"
      ]
     },
     "execution_count": 4,
     "metadata": {},
     "output_type": "execute_result"
    }
   ],
   "source": [
    "function crowdingDist(objs)\n",
    "    crowdDist = zeros(Float64, size(objs)[2])\n",
    "    for i in 1:size(objs)[1]\n",
    "        v = sortperm(objs[i,:], rev=true)\n",
    "        println(objs[i,:])\n",
    "        println(v)\n",
    "        crowdDist[v[1]] = crowdDist[v[1]] + 2*objs[i,v[1]]\n",
    "        crowdDist[v[end]] = crowdDist[v[end]] + 2*objs[i,v[end]]\n",
    "        for j in 2:length(crowdDist)-1\n",
    "            crowdDist[v[j]] = crowdDist[v[j]] + (objs[i,v[j-1]] + objs[i,v[j+1]])\n",
    "        end\n",
    "    end\n",
    "    return crowdDist\n",
    "end"
   ]
  },
  {
   "cell_type": "code",
   "execution_count": 5,
   "metadata": {},
   "outputs": [
    {
     "data": {
      "text/plain": [
       "4×5 Array{Float64,2}:\n",
       " 0.368349  0.422663  0.111659  0.940827  0.162422\n",
       " 0.152559  0.694914  0.490746  0.651641  0.269333\n",
       " 0.998905  0.238633  0.113123  0.798093  0.54954 \n",
       " 0.631719  0.30551   0.212629  0.821981  0.325008"
      ]
     },
     "execution_count": 5,
     "metadata": {},
     "output_type": "execute_result"
    }
   ],
   "source": [
    "a = rand(4,5)"
   ]
  },
  {
   "cell_type": "code",
   "execution_count": 6,
   "metadata": {},
   "outputs": [
    {
     "name": "stdout",
     "output_type": "stream",
     "text": [
      "[0.368349, 0.422663, 0.111659, 0.940827, 0.162422]\n",
      "[4, 2, 1, 5, 3]\n",
      "[0.152559, 0.694914, 0.490746, 0.651641, 0.269333]\n",
      "[2, 4, 3, 5, 1]\n",
      "[0.998905, 0.238633, 0.113123, 0.798093, 0.54954]\n",
      "[1, 4, 5, 2, 3]\n",
      "[0.631719, 0.30551, 0.212629, 0.821981, 0.325008]\n",
      "[4, 1, 5, 2, 3]\n"
     ]
    },
    {
     "data": {
      "text/plain": [
       "5-element Array{Float64,1}:\n",
       " 4.035002983374684 \n",
       " 3.899304517739364 \n",
       " 1.795798152766333 \n",
       " 6.25972109293612  \n",
       " 3.0972674050814994"
      ]
     },
     "execution_count": 6,
     "metadata": {},
     "output_type": "execute_result"
    }
   ],
   "source": [
    "metric = crowdingDist(a)"
   ]
  },
  {
   "cell_type": "code",
   "execution_count": 44,
   "metadata": {},
   "outputs": [
    {
     "data": {
      "text/plain": [
       "4-element Array{Int64,1}:\n",
       " 15\n",
       " 18\n",
       " 25\n",
       " 18"
      ]
     },
     "execution_count": 44,
     "metadata": {},
     "output_type": "execute_result"
    }
   ],
   "source": [
    "metric = [15,18,25,18]"
   ]
  },
  {
   "cell_type": "code",
   "execution_count": 45,
   "metadata": {},
   "outputs": [
    {
     "data": {
      "text/plain": [
       "nds (generic function with 1 method)"
      ]
     },
     "execution_count": 45,
     "metadata": {},
     "output_type": "execute_result"
    }
   ],
   "source": [
    "function nds(metric)\n",
    "    ndsArchive = Array{Int64,1}[]\n",
    "    dominated = zeros(Int64, length(metric))\n",
    "    dominates = Array{Int64}[]\n",
    "    tempnds = []\n",
    "    for i in 1:length(metric)\n",
    "        tempDom = []\n",
    "        for j in 1:length(metric)\n",
    "            if metric[i] > metric[j]\n",
    "                push!(tempDom, j)\n",
    "            elseif metric[i] < metric[j]\n",
    "                dominated[i] = dominated[i] + 1\n",
    "            end\n",
    "        end\n",
    "        push!(dominates, tempDom)\n",
    "        if dominated[i] == 0\n",
    "            push!(tempnds, i)\n",
    "        end\n",
    "    end\n",
    "    push!(ndsArchive, tempnds)\n",
    "    i = 1\n",
    "    while length(ndsArchive[i]) != 0\n",
    "        tempndsnext = []\n",
    "        tempndscurr = ndsArchive[i]\n",
    "        for j in 1:length(tempndscurr)\n",
    "            p = tempndscurr[j]\n",
    "            currSet = dominates[p]\n",
    "            for k in 1:length(currSet)\n",
    "                q = currSet[k]\n",
    "                dominated[q] = dominated[q] - 1\n",
    "                if dominated[q] == 0\n",
    "                    push!(tempndsnext, q)\n",
    "                end\n",
    "            end\n",
    "        end\n",
    "        push!(ndsArchive, tempndsnext)\n",
    "        i = i + 1\n",
    "    end\n",
    "    return ndsArchive\n",
    "end"
   ]
  },
  {
   "cell_type": "code",
   "execution_count": 46,
   "metadata": {},
   "outputs": [
    {
     "name": "stdout",
     "output_type": "stream",
     "text": [
      "Any[]\n",
      "Any[1]\n",
      "Any[1, 2, 4]\n",
      "Any[1]\n",
      "Array{Int64,N} where N[[], [1], [1, 2, 4], [1]]\n",
      "Array{Int64,1}[[3]]\n"
     ]
    },
    {
     "data": {
      "text/plain": [
       "4-element Array{Array{Int64,1},1}:\n",
       " [3]   \n",
       " [2, 4]\n",
       " [1]   \n",
       " []    "
      ]
     },
     "execution_count": 46,
     "metadata": {},
     "output_type": "execute_result"
    }
   ],
   "source": [
    "nds(metric)"
   ]
  },
  {
   "cell_type": "code",
   "execution_count": 9,
   "metadata": {},
   "outputs": [
    {
     "data": {
      "text/plain": [
       "0-element Array{Array{Int64,N} where N,1}"
      ]
     },
     "execution_count": 9,
     "metadata": {},
     "output_type": "execute_result"
    }
   ],
   "source": [
    "dominates = Array{Int64}[]"
   ]
  },
  {
   "cell_type": "code",
   "execution_count": 21,
   "metadata": {},
   "outputs": [
    {
     "data": {
      "text/plain": [
       "0-element Array{Any,1}"
      ]
     },
     "execution_count": 21,
     "metadata": {},
     "output_type": "execute_result"
    }
   ],
   "source": [
    "temp = []"
   ]
  },
  {
   "cell_type": "code",
   "execution_count": 15,
   "metadata": {},
   "outputs": [
    {
     "data": {
      "text/plain": [
       "3-element Array{Array{Int64,N} where N,1}:\n",
       " [1]      \n",
       " [1, 2]   \n",
       " [1, 2, 3]"
      ]
     },
     "execution_count": 15,
     "metadata": {},
     "output_type": "execute_result"
    }
   ],
   "source": [
    "push!(dominates,[1,2,3])"
   ]
  },
  {
   "cell_type": "code",
   "execution_count": 18,
   "metadata": {},
   "outputs": [
    {
     "name": "stdout",
     "output_type": "stream",
     "text": [
      "[1, 2, 3]"
     ]
    }
   ],
   "source": [
    "print(dominates[3])"
   ]
  },
  {
   "cell_type": "code",
   "execution_count": 24,
   "metadata": {},
   "outputs": [
    {
     "data": {
      "text/plain": [
       "3-element Array{Any,1}:\n",
       " 1\n",
       " 2\n",
       " 3"
      ]
     },
     "execution_count": 24,
     "metadata": {},
     "output_type": "execute_result"
    }
   ],
   "source": [
    "push!(temp,3)"
   ]
  },
  {
   "cell_type": "code",
   "execution_count": null,
   "metadata": {},
   "outputs": [],
   "source": []
  }
 ],
 "metadata": {
  "kernelspec": {
   "display_name": "Julia 1.0.0",
   "language": "julia",
   "name": "julia-1.0"
  },
  "language_info": {
   "file_extension": ".jl",
   "mimetype": "application/julia",
   "name": "julia",
   "version": "1.0.0"
  }
 },
 "nbformat": 4,
 "nbformat_minor": 2
}
