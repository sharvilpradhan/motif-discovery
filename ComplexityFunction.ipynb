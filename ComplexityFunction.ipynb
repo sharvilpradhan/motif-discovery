{
 "cells": [
  {
   "cell_type": "code",
   "execution_count": 46,
   "metadata": {},
   "outputs": [
    {
     "data": {
      "text/plain": [
       "complexity (generic function with 1 method)"
      ]
     },
     "execution_count": 46,
     "metadata": {},
     "output_type": "execute_result"
    }
   ],
   "source": [
    "function complexity(DNA, t, k, ind)\n",
    "    sample = Array{String,1}(undef, t)\n",
    "    for j=1:t\n",
    "        sample[j] = DNA[j][ind[j]:(ind[j]+k-1)]\n",
    "    end\n",
    "    den = 1\n",
    "    consensusDict = zeros(Int64, 4, 1)\n",
    "    for i=1:k\n",
    "        count = Dict('A'=>0,'C'=>0,'G'=>0,'T'=>0)\n",
    "        for j=1:t\n",
    "            count[sample[j][i]] = count[sample[j][i]] + 1\n",
    "        end\n",
    "        countN = []\n",
    "        for each in count\n",
    "            push!(countN, each[2])\n",
    "        end\n",
    "        max = 0    \n",
    "        consensus = i\n",
    "        for i in 1:4\n",
    "            if countN[i] > max\n",
    "                max = countN[i]\n",
    "                consensus = i\n",
    "            end\n",
    "        end\n",
    "        consensusDict[consensus] = consensusDict[consensus] + 1\n",
    "        println(consensusDict)\n",
    "    end\n",
    "    for each in consensusDict\n",
    "        den = den * factorial(each)\n",
    "    end\n",
    "    num = factorial(k)\n",
    "    println(num)\n",
    "    println(den)\n",
    "    println(num/den)\n",
    "    return log(4, num/den)\n",
    "end"
   ]
  },
  {
   "cell_type": "code",
   "execution_count": 53,
   "metadata": {},
   "outputs": [
    {
     "data": {
      "text/plain": [
       "10"
      ]
     },
     "execution_count": 53,
     "metadata": {},
     "output_type": "execute_result"
    }
   ],
   "source": [
    "DNA = [\"ATATATATAT\", \"ATATTTATAT\", \"AAAAAAAAAA\"]\n",
    "t=length(DNA)\n",
    "k=3\n",
    "n = length(DNA[1])"
   ]
  },
  {
   "cell_type": "code",
   "execution_count": 54,
   "metadata": {},
   "outputs": [
    {
     "name": "stdout",
     "output_type": "stream",
     "text": [
      "ATA\n",
      "ATA\n",
      "AAA\n",
      "[1; 0; 0; 0]\n",
      "[1; 0; 1; 0]\n",
      "[2; 0; 1; 0]\n",
      "6\n",
      "2\n",
      "3.0\n"
     ]
    },
    {
     "data": {
      "text/plain": [
       "0.7924812503605781"
      ]
     },
     "execution_count": 54,
     "metadata": {},
     "output_type": "execute_result"
    }
   ],
   "source": [
    "ind = [1,1,1]\n",
    "for j=1:t\n",
    "    print(DNA[j][ind[j]:(ind[j]+k-1)])\n",
    "    print(\"\\n\")\n",
    "end\n",
    "complexity(DNA,t,k,ind)"
   ]
  },
  {
   "cell_type": "code",
   "execution_count": null,
   "metadata": {},
   "outputs": [],
   "source": []
  }
 ],
 "metadata": {
  "kernelspec": {
   "display_name": "Julia 1.0.0",
   "language": "julia",
   "name": "julia-1.0"
  },
  "language_info": {
   "file_extension": ".jl",
   "mimetype": "application/julia",
   "name": "julia",
   "version": "1.0.0"
  }
 },
 "nbformat": 4,
 "nbformat_minor": 2
}
