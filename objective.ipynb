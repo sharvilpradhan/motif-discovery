{
 "cells": [
  {
   "cell_type": "markdown",
   "metadata": {},
   "source": [
    "# Objective functions"
   ]
  },
  {
   "cell_type": "markdown",
   "metadata": {},
   "source": [
    "## normScore\n",
    "#### input:\n",
    "motif: Set of DNA strings, Array{String, 1} <br>\n",
    "t: Number of sequences in motif, Int64 <br>\n",
    "k: Length of motif, Int64 <br>\n",
    "#### output:\n",
    "score: consensus score of motif set, Float64 <br>\n",
    "$$ score = \\sum \\frac{f_{bi}}{k} $$ <br>\n",
    "consensus: The consensus motif, String <br>\n",
    "#### notes:"
   ]
  },
  {
   "cell_type": "code",
   "execution_count": null,
   "metadata": {},
   "outputs": [],
   "source": []
  },
  {
   "cell_type": "markdown",
   "metadata": {},
   "source": [
    "## complexity\n",
    "#### input:\n",
    "consensus: the calculated consensus motif, String <br>\n",
    "k: length of the motif, Int64 <br>\n",
    "#### output\n",
    "complexity: complexity of the consensus motif, Float64 <br>\n",
    "$$ log_{4} \\frac {k!} {\\pi_{i \\in {n}} f_{i}!} $$<br>\n",
    "$$ n = \\{A,C,G,T\\}$$ <br>\n",
    "#### notes:\n",
    "0! = 1"
   ]
  },
  {
   "cell_type": "code",
   "execution_count": null,
   "metadata": {},
   "outputs": [],
   "source": []
  }
 ],
 "metadata": {
  "kernelspec": {
   "display_name": "Julia 1.0.0",
   "language": "julia",
   "name": "julia-1.0"
  },
  "language_info": {
   "file_extension": ".jl",
   "mimetype": "application/julia",
   "name": "julia",
   "version": "1.0.0"
  }
 },
 "nbformat": 4,
 "nbformat_minor": 2
}
