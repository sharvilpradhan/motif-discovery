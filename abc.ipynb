{
 "cells": [
  {
   "cell_type": "markdown",
   "metadata": {},
   "source": [
    "# Copy"
   ]
  },
  {
   "cell_type": "code",
   "execution_count": 1,
   "metadata": {},
   "outputs": [
    {
     "data": {
      "text/plain": [
       "getMotif (generic function with 1 method)"
      ]
     },
     "execution_count": 1,
     "metadata": {},
     "output_type": "execute_result"
    }
   ],
   "source": [
    "function getMotif(DNA, ind, k, t)\n",
    "    sample = Array{String,1}(undef, t)\n",
    "    for j=1:t\n",
    "        sample[j] = DNA[j][ind[j]:(ind[j]+k-1)]\n",
    "    end\n",
    "    return sample\n",
    "end"
   ]
  },
  {
   "cell_type": "markdown",
   "metadata": {},
   "source": [
    "# Copy"
   ]
  },
  {
   "cell_type": "code",
   "execution_count": 2,
   "metadata": {},
   "outputs": [
    {
     "data": {
      "text/plain": [
       "Score (generic function with 1 method)"
      ]
     },
     "execution_count": 2,
     "metadata": {},
     "output_type": "execute_result"
    }
   ],
   "source": [
    "function Score(DNA, t, k, ind)\n",
    "    sample = Array{String,1}(undef, t)\n",
    "    for j=1:t\n",
    "        sample[j] = DNA[j][ind[j]:(ind[j]+k-1)]\n",
    "    end\n",
    "    score = 0\n",
    "    for i=1:k\n",
    "        count = Dict('A'=>0,'C'=>0,'G'=>0,'T'=>0)\n",
    "        for j=1:t\n",
    "            count[sample[j][i]] = count[sample[j][i]] + 1\n",
    "        end\n",
    "        max = 0\n",
    "        for each in count\n",
    "            if each[2]>max\n",
    "                max = each[2]\n",
    "            end\n",
    "        end\n",
    "        score = score+max\n",
    "    end\n",
    "    return score/k\n",
    "end"
   ]
  },
  {
   "cell_type": "markdown",
   "metadata": {},
   "source": [
    "# Copy"
   ]
  },
  {
   "cell_type": "code",
   "execution_count": 3,
   "metadata": {},
   "outputs": [
    {
     "data": {
      "text/plain": [
       "genIndividual (generic function with 1 method)"
      ]
     },
     "execution_count": 3,
     "metadata": {},
     "output_type": "execute_result"
    }
   ],
   "source": [
    "function genIndividual(t, ub)\n",
    "    M = zeros(Int64, 1, t)\n",
    "    s = rand(t)*(ub)\n",
    "    for i in 1:t\n",
    "        s[i] = s[i] + 1\n",
    "        M[i] = trunc(Int64, s[i])\n",
    "    end\n",
    "    return M\n",
    "end"
   ]
  },
  {
   "cell_type": "markdown",
   "metadata": {},
   "source": [
    "# Copy"
   ]
  },
  {
   "cell_type": "code",
   "execution_count": 4,
   "metadata": {},
   "outputs": [
    {
     "data": {
      "text/plain": [
       "employeeLookAround (generic function with 1 method)"
      ]
     },
     "execution_count": 4,
     "metadata": {},
     "output_type": "execute_result"
    }
   ],
   "source": [
    "function employeeLookAround(ind, t, ub)\n",
    "    i = trunc(Int64, rand() * t + 1)\n",
    "    j = trunc(Int64, rand() * ub + 1)\n",
    "    ind[i] = j\n",
    "    return ind\n",
    "end"
   ]
  },
  {
   "cell_type": "markdown",
   "metadata": {},
   "source": [
    "# Copy"
   ]
  },
  {
   "cell_type": "code",
   "execution_count": 5,
   "metadata": {},
   "outputs": [
    {
     "data": {
      "text/plain": [
       "crowdingDist (generic function with 1 method)"
      ]
     },
     "execution_count": 5,
     "metadata": {},
     "output_type": "execute_result"
    }
   ],
   "source": [
    "function crowdingDist(objs)\n",
    "    crowdDist = zeros(Float64, size(objs)[2])\n",
    "    for i in 1:size(objs)[1]\n",
    "        v = sortperm(objs[i,:], rev=true)\n",
    "        crowdDist[v[1]] = crowdDist[v[1]] + 2*objs[i,v[1]]\n",
    "        crowdDist[v[end]] = crowdDist[v[end]] + 2*objs[i,v[end]]\n",
    "        for j in 2:length(crowdDist)-1\n",
    "            crowdDist[v[j]] = crowdDist[v[j]] + (objs[i,v[j-1]] + objs[i,v[j+1]])\n",
    "        end\n",
    "    end\n",
    "    return crowdDist\n",
    "end"
   ]
  },
  {
   "cell_type": "markdown",
   "metadata": {},
   "source": [
    "# Copy"
   ]
  },
  {
   "cell_type": "code",
   "execution_count": 6,
   "metadata": {},
   "outputs": [
    {
     "data": {
      "text/plain": [
       "nds (generic function with 1 method)"
      ]
     },
     "execution_count": 6,
     "metadata": {},
     "output_type": "execute_result"
    }
   ],
   "source": [
    "function nds(metric)\n",
    "    ndsArchive = Array{Int64,1}[]\n",
    "    dominated = zeros(Int64, length(metric))\n",
    "    dominates = Array{Int64}[]\n",
    "    tempnds = []\n",
    "    for i in 1:length(metric)\n",
    "        tempDom = []\n",
    "        for j in 1:length(metric)\n",
    "            if metric[i] > metric[j]\n",
    "                push!(tempDom, j)\n",
    "            elseif metric[i] < metric[j]\n",
    "                dominated[i] = dominated[i] + 1\n",
    "            end\n",
    "        end\n",
    "        push!(dominates, tempDom)\n",
    "        if dominated[i] == 0\n",
    "            push!(tempnds, i)\n",
    "        end\n",
    "    end\n",
    "    push!(ndsArchive, tempnds)\n",
    "    i = 1\n",
    "    while length(ndsArchive[i]) != 0\n",
    "        tempndsnext = []\n",
    "        tempndscurr = ndsArchive[i]\n",
    "        for j in 1:length(tempndscurr)\n",
    "            p = tempndscurr[j]\n",
    "            currSet = dominates[p]\n",
    "            for k in 1:length(currSet)\n",
    "                q = currSet[k]\n",
    "                dominated[q] = dominated[q] - 1\n",
    "                if dominated[q] == 0\n",
    "                    push!(tempndsnext, q)\n",
    "                end\n",
    "            end\n",
    "        end\n",
    "        push!(ndsArchive, tempndsnext)\n",
    "        i = i + 1\n",
    "    end\n",
    "    return ndsArchive\n",
    "end"
   ]
  },
  {
   "cell_type": "markdown",
   "metadata": {},
   "source": [
    "# Copy"
   ]
  },
  {
   "cell_type": "code",
   "execution_count": 7,
   "metadata": {},
   "outputs": [
    {
     "data": {
      "text/plain": [
       "complexity (generic function with 1 method)"
      ]
     },
     "execution_count": 7,
     "metadata": {},
     "output_type": "execute_result"
    }
   ],
   "source": [
    "function complexity(DNA, t, k, ind, prob)\n",
    "    sample = Array{String,1}(undef, t)\n",
    "    for j=1:t\n",
    "        sample[j] = DNA[j][ind[j]:(ind[j]+k-1)]\n",
    "    end\n",
    "    den = 1\n",
    "    consensusDict = zeros(Int64, 4, 1)\n",
    "    for i=1:k\n",
    "        count = Dict('A'=>0,'C'=>0,'G'=>0,'T'=>0)\n",
    "        for j=1:t\n",
    "            count[sample[j][i]] = count[sample[j][i]] + 1\n",
    "        end\n",
    "        countN = []\n",
    "        for each in count\n",
    "            push!(countN, each[2])\n",
    "        end\n",
    "        max = 0    \n",
    "        consensus = i\n",
    "        for i in 1:4\n",
    "            if countN[i] > max\n",
    "                max = countN[i]\n",
    "                consensus = i\n",
    "            end\n",
    "        end\n",
    "        consensusDict[consensus] = consensusDict[consensus] + 1\n",
    "    end\n",
    "    consensusDict = consensusDict .+ 1\n",
    "    consensusDict = consensusDict ./ (k+4)\n",
    "    complexityScore = 0\n",
    "    for i in 1:4\n",
    "        temp = log(2, consensusDict[i]/prob[i]) * consensusDict[i]\n",
    "        complexityScore = complexityScore + temp\n",
    "    end\n",
    "    return complexityScore\n",
    "end"
   ]
  },
  {
   "cell_type": "markdown",
   "metadata": {},
   "source": [
    "# Copy"
   ]
  },
  {
   "cell_type": "code",
   "execution_count": 8,
   "metadata": {},
   "outputs": [
    {
     "data": {
      "text/plain": [
       "getNucProb (generic function with 1 method)"
      ]
     },
     "execution_count": 8,
     "metadata": {},
     "output_type": "execute_result"
    }
   ],
   "source": [
    "function getNucProb(DNA)\n",
    "    count = Dict('A'=>0,'C'=>0,'G'=>0,'T'=>0)\n",
    "    n = length(DNA[1])\n",
    "    t = length(DNA)\n",
    "    for i in 1:t\n",
    "        for j in 1:n\n",
    "            count[DNA[i][j]] = count[DNA[i][j]] + 1\n",
    "        end\n",
    "    end\n",
    "    countN = []\n",
    "    for each in count\n",
    "        push!(countN, each[2])\n",
    "    end\n",
    "    countSum = sum(countN)\n",
    "    prob = countN ./ countSum\n",
    "    return prob\n",
    "end"
   ]
  },
  {
   "cell_type": "markdown",
   "metadata": {},
   "source": [
    "# Copy"
   ]
  },
  {
   "cell_type": "code",
   "execution_count": 9,
   "metadata": {},
   "outputs": [
    {
     "data": {
      "text/plain": [
       "extract (generic function with 1 method)"
      ]
     },
     "execution_count": 9,
     "metadata": {},
     "output_type": "execute_result"
    }
   ],
   "source": [
    "function extract(archive)\n",
    "    temp = []\n",
    "    for each in archive\n",
    "        append!(temp, each)\n",
    "    end\n",
    "    result = Array{Int64, 1}(undef, length(temp))\n",
    "    for i in 1:length(temp)\n",
    "        result[i] = temp[i]\n",
    "    end\n",
    "    return result\n",
    "end"
   ]
  },
  {
   "cell_type": "code",
   "execution_count": 10,
   "metadata": {},
   "outputs": [
    {
     "data": {
      "text/plain": [
       "moabc (generic function with 2 methods)"
      ]
     },
     "execution_count": 10,
     "metadata": {},
     "output_type": "execute_result"
    }
   ],
   "source": [
    "function moabc(DNA, t, N, MFE = 100)\n",
    "    ndsArchiveExtract = collect(1:N+3)\n",
    "    ndsArchive = []\n",
    "    objs=[]\n",
    "    prob = getNucProb(DNA)\n",
    "    eval = 0\n",
    "    n = length(DNA[1])\n",
    "    Bees = zeros(Int64, N + 3, t)\n",
    "    fitness = zeros(Float64, N + 3, 1)\n",
    "    complexityScore = zeros(Float64, N + 3, 1)\n",
    "    crowdDist = []\n",
    "    k = zeros(Int64, N+3, 1)\n",
    "    s = rand(trunc(Int64, N/2))*(64 - 7 + 1)\n",
    "    for i in 1:trunc(Int64, N/2)\n",
    "        s[i] = s[i] + 7\n",
    "        k[i] = trunc(Int64, s[i])\n",
    "    end\n",
    "    for i in 1:trunc(Int64, N/2)\n",
    "        ub = n - k[i] + 1\n",
    "        temp = genIndividual(t,ub)\n",
    "        Bees[i,:] = temp\n",
    "        fitness[i] = Score(DNA, t, k[i], Bees[i,:])\n",
    "        complexityScore[i] = complexity(DNA, t, k[i], Bees[i,:], prob)\n",
    "    end\n",
    "    best = 1\n",
    "    while eval < MFE\n",
    "        for i in 1:trunc(Int64, N/2)     #Employee\n",
    "            ub = n - k[i] + 1\n",
    "            temp = employeeLookAround(copy(Bees[i,:]), t, ub)\n",
    "            tempScore = Score(DNA, t, k[i], temp)\n",
    "            tempComplexity = complexity(DNA, t, k[i], temp, prob)\n",
    "            if (tempScore > fitness[i])\n",
    "                Bees[i,:] = temp\n",
    "                fitness[i] = tempScore\n",
    "                complexityScore[i] = tempComplexity\n",
    "            end\n",
    "        end\n",
    "        fitnessSum = sum(fitness[1:trunc(Int64, N/2)])\n",
    "        probArray = fitness[1:trunc(Int64, N/2)] ./ fitnessSum\n",
    "        pdfArray = zeros(Float64, trunc(Int64, N/2), 1)\n",
    "        for i in 1:trunc(Int64, N/2)\n",
    "            pdfArray[i] = sum(probArray[1:i])\n",
    "        end\n",
    "        for i in trunc(Int64, N/2)+1:N      #onlooker phase\n",
    "            p = rand()\n",
    "            final = 1\n",
    "            for i in 1:length(pdfArray)\n",
    "                if (p < pdfArray[i])\n",
    "                    final = i\n",
    "                    break\n",
    "                end\n",
    "            end\n",
    "            k[i] = k[final]\n",
    "            ub = n - k[i] + 1\n",
    "            temp = employeeLookAround(copy(Bees[final,:]), t, ub)\n",
    "            tempScore = Score(DNA, t, k[i], temp)\n",
    "            tempComplexity = complexity(DNA, t, k[i], temp, prob)\n",
    "            if (tempScore > fitness[final])\n",
    "                Bees[i,:] = temp\n",
    "                fitness[i] = tempScore\n",
    "                complexityScore[i] = complexity(DNA, t, k[i], Bees[i,:], prob)\n",
    "            else\n",
    "                Bees[i,:] = copy(Bees[final,:])\n",
    "                fitness[i] = fitness[final]\n",
    "                complexityScore[i] = complexityScore[final]\n",
    "            end\n",
    "        end\n",
    "        for i in N+1:N+3        # scout phase\n",
    "            k[i] = trunc(Int64, rand()*(64 - 7 + 1) + 7)\n",
    "            ub = n - k[i] + 1\n",
    "            temp = genIndividual(t,ub)\n",
    "            Bees[i,:] = temp\n",
    "            fitness[i] = Score(DNA, t, k[i], Bees[i,:])\n",
    "            complexityScore[i] = complexity(DNA, t, k[i], Bees[i,:], prob)\n",
    "        end\n",
    "        objs = zeros(Float64, 3, N+3)\n",
    "        objs[1,:] = fitness\n",
    "        kTemp = k ./ 64\n",
    "        objs[2,:] = kTemp\n",
    "        objs[3,:] = complexityScore\n",
    "        crowdDist = crowdingDist(objs)\n",
    "        ndsArchive = nds(crowdDist)\n",
    "        ndsArchiveExtract = extract(ndsArchive)\n",
    "        k[:] = k[ndsArchiveExtract]\n",
    "        fitness[:] = fitness[ndsArchiveExtract]\n",
    "        complexityScore[:] = complexityScore[ndsArchiveExtract]\n",
    "        #println(Bees)\n",
    "        #println(crowdDist)\n",
    "        #println(ndsArchive)\n",
    "        #println(ndsArchiveExtract)\n",
    "        for i in 1:size(Bees)[2]\n",
    "            Bees[:,i] = Bees[:,i][ndsArchiveExtract]\n",
    "        end\n",
    "        #println(Bees)\n",
    "        best = 1\n",
    "        eval = eval + 1\n",
    "    end\n",
    "    println(k[best])\n",
    "    println(fitness[best])\n",
    "    println(complexityScore[best])\n",
    "    println(Bees[best,:])\n",
    "    answer = getMotif(DNA, Bees[best,:], k[best], t)\n",
    "    return answer\n",
    "end"
   ]
  },
  {
   "cell_type": "code",
   "execution_count": 11,
   "metadata": {},
   "outputs": [
    {
     "data": {
      "text/plain": [
       "abc (generic function with 3 methods)"
      ]
     },
     "execution_count": 11,
     "metadata": {},
     "output_type": "execute_result"
    }
   ],
   "source": [
    "function abc(DNA, k, t, N, limit = 50, MFE = 100)\n",
    "    evals = 0\n",
    "    n = length(DNA[1])\n",
    "    ub = n - k + 1\n",
    "    Bees = zeros(Int64, N, t)\n",
    "    fitness = zeros(Float64, N, 1)\n",
    "    trials = zeros(Int64, N, 1)\n",
    "    for i in 1:trunc(Int64, N)\n",
    "        temp = genIndividual(t,ub)\n",
    "        Bees[i,:] = temp\n",
    "        fitness[i] = Score(DNA, t, k, Bees[i,:])\n",
    "    end\n",
    "    while evals < 200\n",
    "        for i in 1:N #Employee looks around\n",
    "            temp = employeeLookAround(copy(Bees[i,:]), t, ub)\n",
    "            tempScore = Score(DNA, t, k, temp)\n",
    "            if tempScore > fitness[i]\n",
    "                Bees[i,:] = temp\n",
    "                fitness[i] = tempScore\n",
    "                trials[i] = 0\n",
    "            else\n",
    "                trials[i] = trials[i] + 1\n",
    "            end\n",
    "        end\n",
    "        fitnessSum = sum(fitness)\n",
    "        probArray = fitness ./ fitnessSum\n",
    "        for i in 1:N #Onlooker tries to improve the best ones\n",
    "            r = rand()\n",
    "            temp = employeeLookAround(copy(Bees[i,:]), t, ub)\n",
    "            tempScore = Score(DNA, t, k, temp)\n",
    "            if (tempScore > fitness[i]) & (r < probArray[i])\n",
    "                Bees[i,:] = temp\n",
    "                fitness[i] = tempScore\n",
    "                trials[i] = 0\n",
    "            else\n",
    "                trials[i] = trials[i] + 1\n",
    "            end\n",
    "        end\n",
    "        for i in 1:N #Scouts try to replace overexploited source\n",
    "            if trials[i] > limit\n",
    "                temp = genIndividual(t, ub)\n",
    "                tempScore = Score(DNA, t, k, temp)\n",
    "                if tempScore > fitness[i]\n",
    "                    Bees[i,:] = temp\n",
    "                    fitness[i] = tempScore\n",
    "                    trials[i] = 0\n",
    "                else\n",
    "                    trials[i] = trials[i] + 1\n",
    "                end\n",
    "            end\n",
    "        end\n",
    "        evals = evals + 1\n",
    "    end\n",
    "    fitMax = findmax(fitness)[1]\n",
    "    bestSol = 1\n",
    "    for i in 1:length(fitness)\n",
    "        if fitMax == fitness[i]\n",
    "            bestSol = i\n",
    "        end\n",
    "    end\n",
    "    println(Score(DNA, t, k, Bees[bestSol,:]) * k)\n",
    "    answer = getMotif(DNA, Bees[bestSol,:], k, t)\n",
    "    return answer\n",
    "end"
   ]
  },
  {
   "cell_type": "code",
   "execution_count": 38,
   "metadata": {},
   "outputs": [
    {
     "data": {
      "text/plain": [
       "mmoabc (generic function with 2 methods)"
      ]
     },
     "execution_count": 38,
     "metadata": {},
     "output_type": "execute_result"
    }
   ],
   "source": [
    "function mmoabc(DNA, t, N, MFE = 100)\n",
    "    ndsArchiveExtract = collect(1:N+3)\n",
    "    ndsArchive = []\n",
    "    prob = getNucProb(DNA)\n",
    "    eval = 0\n",
    "    n = length(DNA[1])\n",
    "    Bees = zeros(Int64, N + 3, t)\n",
    "    fitness = zeros(Float64, N + 3, 1)\n",
    "    complexityScore = zeros(Float64, N + 3, 1)\n",
    "    crowdDist = []\n",
    "    k = zeros(Int64, N+3, 1)\n",
    "    s = rand(trunc(Int64, N/2))*(64 - 7 + 1)\n",
    "    for i in 1:trunc(Int64, N/2)\n",
    "        s[i] = s[i] + 7\n",
    "        k[i] = trunc(Int64, s[i])\n",
    "    end\n",
    "    for i in 1:trunc(Int64, N/2)\n",
    "        ub = n - k[i] + 1\n",
    "        temp = genIndividual(t,ub)\n",
    "        Bees[i,:] = temp\n",
    "        fitness[i] = Score(DNA, t, k[i], Bees[i,:])\n",
    "        complexityScore[i] = complexity(DNA, t, k[i], Bees[i,:], prob)\n",
    "    end\n",
    "    best = 1\n",
    "    while eval < MFE\n",
    "        for i in 1:trunc(Int64, N/2)     #Employee\n",
    "            ub = n - k[i] + 1\n",
    "            temp = employeeLookAround(copy(Bees[i,:]), t, ub)\n",
    "            tempScore = Score(DNA, t, k[i], temp)\n",
    "            tempComplexity = complexity(DNA, t, k[i], temp, prob)\n",
    "            if (tempScore > fitness[i])\n",
    "                Bees[i,:] = temp\n",
    "                fitness[i] = tempScore\n",
    "                complexityScore[i] = tempComplexity\n",
    "            end\n",
    "        end\n",
    "        fitnessSum = sum(fitness[1:trunc(Int64, N/2)])\n",
    "        probArray = fitness[1:trunc(Int64, N/2)] ./ fitnessSum\n",
    "        pdfArray = zeros(Float64, trunc(Int64, N/2), 1)\n",
    "        for i in 1:trunc(Int64, N/2)\n",
    "            pdfArray[i] = sum(probArray[1:i])\n",
    "        end\n",
    "        for i in trunc(Int64, N/2)+1:N      #onlooker phase\n",
    "            p = rand()\n",
    "            final = 1\n",
    "            for i in 1:length(pdfArray)\n",
    "                if (p < pdfArray[i])\n",
    "                    final = i\n",
    "                    break\n",
    "                end\n",
    "            end\n",
    "            k[i] = k[final]\n",
    "            ub = n - k[i] + 1\n",
    "            temp = employeeLookAround(copy(Bees[final,:]), t, ub)\n",
    "            tempScore = Score(DNA, t, k[i], temp)\n",
    "            tempComplexity = complexity(DNA, t, k[i], temp, prob)\n",
    "            if (tempScore > fitness[final])\n",
    "                Bees[i,:] = temp\n",
    "                fitness[i] = tempScore\n",
    "                complexityScore[i] = complexity(DNA, t, k[i], Bees[i,:], prob)\n",
    "            else\n",
    "                Bees[i,:] = copy(Bees[final,:])\n",
    "                fitness[i] = fitness[final]\n",
    "                complexityScore[i] = complexityScore[final]\n",
    "            end\n",
    "        end\n",
    "        maxFitness = argmax(fitness).I[1]\n",
    "        for i in N+1:N+3        # scout phase\n",
    "            kTemp= trunc(Int64, rand()*(64 - 7 + 1) + 7)\n",
    "            ub = n - kTemp + 1\n",
    "            temp = genIndividual(t,ub)\n",
    "            tempScore = Score(DNA, t, kTemp, temp)\n",
    "            if tempScore > fitness[maxFitness]\n",
    "                Bees[i,:] = temp\n",
    "                k[i] = kTemp\n",
    "            else\n",
    "                Bees[i,:] = Bees[maxFitness,:]\n",
    "                k[i] = k[maxFitness]\n",
    "            end\n",
    "            fitness[i] = Score(DNA, t, k[i], Bees[i,:])\n",
    "            complexityScore[i] = complexity(DNA, t, k[i], Bees[i,:], prob)\n",
    "        end\n",
    "        \n",
    "        objs = zeros(Float64, 3, N+3)\n",
    "        objs[1,:] = fitness\n",
    "        kTemp = k ./ 64\n",
    "        objs[2,:] = kTemp\n",
    "        objs[3,:] = complexityScore\n",
    "        crowdDist = crowdingDist(objs)\n",
    "        ndsArchive = nds(crowdDist)\n",
    "        ndsArchiveExtract = extract(ndsArchive)\n",
    "        k[:] = k[ndsArchiveExtract]\n",
    "        fitness[:] = fitness[ndsArchiveExtract]\n",
    "        complexityScore[:] = complexityScore[ndsArchiveExtract]\n",
    "        #println(Bees)\n",
    "        #println(crowdDist)\n",
    "        #println(ndsArchive)\n",
    "        #println(ndsArchiveExtract)\n",
    "        for i in 1:size(Bees)[2]\n",
    "            Bees[:,i] = Bees[:,i][ndsArchiveExtract]\n",
    "        end\n",
    "        #println(Bees)\n",
    "        best = 1\n",
    "        eval = eval + 1\n",
    "    end\n",
    "    println(k[best])\n",
    "    println(fitness[best])\n",
    "    println(complexityScore[best])\n",
    "    println(Bees[best,:])\n",
    "    answer = getMotif(DNA, Bees[best,:], k[best], t)\n",
    "    return answer\n",
    "end"
   ]
  },
  {
   "cell_type": "code",
   "execution_count": 57,
   "metadata": {},
   "outputs": [
    {
     "name": "stdout",
     "output_type": "stream",
     "text": [
      "200\n",
      "3.75\n",
      "10\n",
      "4.5\n",
      "0.2616957797592377\n",
      "[151, 108, 33, 7, 32]\n",
      "  0.645622 seconds (7.26 M allocations: 819.220 MiB, 14.91% gc time)\n",
      "GGCGGGGGGG\n",
      "GGCGGCGAGG\n",
      "GGCGGGGGGC\n",
      "CCCGGGGGGG\n",
      "GGCGGGGGGG\n",
      "63\n",
      "4.619047619047619\n",
      "0.025672227987114278\n",
      "[55, 102, 65, 32, 61]\n",
      "  2.762951 seconds (33.14 M allocations: 3.754 GiB, 14.72% gc time)\n",
      "CGCCAGGGCGGCGAGGGCGCGTCGGGCCGGGCGCAGGGCCGGCGGGCCGCGCCGGGGCGGGAC\n",
      "CGCCAGGGCGGCGAGGGCGCGTCGGGCCGGGCGCAGGGCCGGCGGGCCGCGCTCCCGCCCCCC\n",
      "CGCCAGGGCGGCGAGGGCGCGTCGGGCCGGGCGCAGGGCCGGCGGGCCGCGCGCCCGTAAGGG\n",
      "CGCCAGGGCGGCGAGGGCGCGTCGGGCCGGGCGCAGGGCCGGCGGGCCGCGCCCCCAAGTCCT\n",
      "CGCCAGGGCGGCGAGGGCGCGTCGGGCCGGGCGCAGGGCCGGCGGGCCGCGCCTCGGCCTGGG\n"
     ]
    }
   ],
   "source": [
    "open(\"test1.txt\") do file\n",
    "    x = readline(file)\n",
    "    line1 = split(x,\" \")\n",
    "    t = parse(Int64, line1[1])\n",
    "    DNA = Array{String,1}(undef,t)\n",
    "    for i in 1:t\n",
    "        DNA[i] = readline(file)\n",
    "    end\n",
    "    println(length(DNA[1]))\n",
    "    #@time Motif1 = abc(DNA, k, t, N, 50, 500)\n",
    "    #for each in Motif1\n",
    "    #    println(each)\n",
    "    #end\n",
    "    println(t*3/4)\n",
    "    @time Motif2 = moabc(DNA, t, 200, t*50)\n",
    "    for each in Motif2\n",
    "        println(each)\n",
    "    end\n",
    "    @time Motif3 = mmoabc(DNA, t, 200, t*50)\n",
    "    for each in Motif3\n",
    "        println(each)\n",
    "    end\n",
    "end"
   ]
  },
  {
   "cell_type": "code",
   "execution_count": null,
   "metadata": {},
   "outputs": [],
   "source": []
  },
  {
   "cell_type": "code",
   "execution_count": null,
   "metadata": {},
   "outputs": [],
   "source": []
  }
 ],
 "metadata": {
  "@webio": {
   "lastCommId": "d83f111096ea49f9a436c7dcf23ba5d8",
   "lastKernelId": "97998581-2c52-4e56-a840-676b2d22e52d"
  },
  "kernelspec": {
   "display_name": "Julia 1.0.0",
   "language": "julia",
   "name": "julia-1.0"
  },
  "language_info": {
   "file_extension": ".jl",
   "mimetype": "application/julia",
   "name": "julia",
   "version": "1.0.0"
  }
 },
 "nbformat": 4,
 "nbformat_minor": 2
}
