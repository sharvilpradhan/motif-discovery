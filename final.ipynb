{
 "cells": [
  {
   "cell_type": "markdown",
   "metadata": {},
   "source": [
    "### getMotif\n",
    "Returns the extracted set of motifs given the sequences, starting positions and length of motif<br>\n",
    "@param DNA: set of DNA sequences, Array{String,1}<br>\n",
    "@param ind: Start positions, Array{Int64,1}<br>\n",
    "@param k: Length if motif, Int64<br>\n",
    "@param t: number of sequences, Int64<br>"
   ]
  },
  {
   "cell_type": "code",
   "execution_count": 72,
   "metadata": {},
   "outputs": [
    {
     "data": {
      "text/plain": [
       "getMotif (generic function with 1 method)"
      ]
     },
     "execution_count": 72,
     "metadata": {},
     "output_type": "execute_result"
    }
   ],
   "source": [
    "function getMotif(DNA, ind, k, t)\n",
    "    sample = Array{String,1}(undef, t)\n",
    "    for j=1:t\n",
    "        sample[j] = DNA[j][ind[j]:(ind[j]+k-1)]\n",
    "    end\n",
    "    return sample\n",
    "end"
   ]
  },
  {
   "cell_type": "markdown",
   "metadata": {},
   "source": [
    "### Score\n",
    "Returns the normalised consensus score of motif<br>\n",
    "@param DNA: set of DNA sequences, Array{String,1}<br>\n",
    "@param ind: Start positions, Array{Int64,1}<br>\n",
    "@param k: Length if motif, Int64<br>\n",
    "@param t: number of sequences, Int64<br>\n",
    "\n",
    "$$ score = \\frac{\\Sigma max_{b} (f_{b,i})}{l} $$"
   ]
  },
  {
   "cell_type": "code",
   "execution_count": 73,
   "metadata": {},
   "outputs": [
    {
     "data": {
      "text/plain": [
       "Score (generic function with 1 method)"
      ]
     },
     "execution_count": 73,
     "metadata": {},
     "output_type": "execute_result"
    }
   ],
   "source": [
    "function Score(DNA, t, k, ind)\n",
    "    sample = Array{String,1}(undef, t)\n",
    "    for j=1:t\n",
    "        sample[j] = DNA[j][ind[j]:(ind[j]+k-1)]\n",
    "    end\n",
    "    score = 0\n",
    "    for i=1:k\n",
    "        count = Dict('A'=>0,'C'=>0,'G'=>0,'T'=>0)\n",
    "        for j=1:t\n",
    "            count[sample[j][i]] = count[sample[j][i]] + 1\n",
    "        end\n",
    "        max = 0\n",
    "        for each in count\n",
    "            if each[2]>max\n",
    "                max = each[2]\n",
    "            end\n",
    "        end\n",
    "        score = score+max\n",
    "    end\n",
    "    return score/k\n",
    "end"
   ]
  },
  {
   "cell_type": "markdown",
   "metadata": {},
   "source": [
    "### consensus\n",
    "Prints the consensus motif<br>\n",
    "@param DNA: set of DNA sequences, Array{String,1}<br>\n",
    "@param ind: Start positions, Array{Int64,1}<br>\n",
    "@param k: Length if motif, Int64<br>\n",
    "@param t: number of sequences, Int64<br>"
   ]
  },
  {
   "cell_type": "code",
   "execution_count": 74,
   "metadata": {},
   "outputs": [
    {
     "data": {
      "text/plain": [
       "consensus (generic function with 1 method)"
      ]
     },
     "execution_count": 74,
     "metadata": {},
     "output_type": "execute_result"
    }
   ],
   "source": [
    "function consensus(DNA, t, k, ind)\n",
    "    sample = Array{String,1}(undef, t)\n",
    "    alphabet = [\"A\",\"C\",\"G\",\"T\"]\n",
    "    motif = \"\"\n",
    "    for j=1:t\n",
    "        sample[j] = DNA[j][ind[j]:(ind[j]+k-1)]\n",
    "    end\n",
    "    score = 0\n",
    "    for i=1:k\n",
    "        count = Dict('A'=>0,'C'=>0,'G'=>0,'T'=>0)\n",
    "        for j=1:t\n",
    "            count[sample[j][i]] = count[sample[j][i]] + 1\n",
    "        end\n",
    "       print(argmax(count)) \n",
    "    end\n",
    "    println()\n",
    "end"
   ]
  },
  {
   "cell_type": "markdown",
   "metadata": {},
   "source": [
    "### genIndividual\n",
    "Returns a candidate motif given number of sequences and upper bound on start position<br>\n",
    "@param t: number of sequences, Int64<br>\n",
    "@param ub: Upper bound on motif start position, Int64<br>"
   ]
  },
  {
   "cell_type": "code",
   "execution_count": 75,
   "metadata": {},
   "outputs": [
    {
     "data": {
      "text/plain": [
       "genIndividual (generic function with 1 method)"
      ]
     },
     "execution_count": 75,
     "metadata": {},
     "output_type": "execute_result"
    }
   ],
   "source": [
    "function genIndividual(t, ub)\n",
    "    M = zeros(Int64, 1, t)\n",
    "    s = rand(t)*(ub)\n",
    "    for i in 1:t\n",
    "        s[i] = s[i] + 1\n",
    "        M[i] = trunc(Int64, s[i])\n",
    "    end\n",
    "    return M\n",
    "end"
   ]
  },
  {
   "cell_type": "markdown",
   "metadata": {},
   "source": [
    "### employeeLookAround\n",
    "Returns a mutated individual given number of sequences and upper bound on start position<br>\n",
    "Start position in one randomly chosen sequence is changed<br>\n",
    "@param ind: Start positions, Array{Int64,1}<br>\n",
    "@param t: number of sequences, Int64<br>\n",
    "@param ub: Upper bound on motif start position, Int64<br>"
   ]
  },
  {
   "cell_type": "code",
   "execution_count": 76,
   "metadata": {},
   "outputs": [
    {
     "data": {
      "text/plain": [
       "employeeLookAround (generic function with 1 method)"
      ]
     },
     "execution_count": 76,
     "metadata": {},
     "output_type": "execute_result"
    }
   ],
   "source": [
    "function employeeLookAround(ind, t, ub)\n",
    "    i = trunc(Int64, rand() * t + 1)\n",
    "    j = trunc(Int64, rand() * ub + 1)\n",
    "    ind[i] = j\n",
    "    return ind\n",
    "end"
   ]
  },
  {
   "cell_type": "markdown",
   "metadata": {},
   "source": [
    "### crowdingDist\n",
    "Returns crowding distance for each individual<br>\n",
    "Crowding distance is calculated as the sum of the sides of the cuboid around an individual that contains no other individual<br>\n",
    "@param objs: Position of individual described using coloumn vectors, Array{Float64, 2}\\[3,t\\]<br>"
   ]
  },
  {
   "cell_type": "code",
   "execution_count": 77,
   "metadata": {},
   "outputs": [
    {
     "data": {
      "text/plain": [
       "crowdingDist (generic function with 1 method)"
      ]
     },
     "execution_count": 77,
     "metadata": {},
     "output_type": "execute_result"
    }
   ],
   "source": [
    "function crowdingDist(objs)\n",
    "    crowdDist = zeros(Float64, size(objs)[2])\n",
    "    for i in 1:size(objs)[1]\n",
    "        v = sortperm(objs[i,:], rev=true)\n",
    "        crowdDist[v[1]] = crowdDist[v[1]] + 2*objs[i,v[1]]\n",
    "        crowdDist[v[end]] = crowdDist[v[end]] + 2*objs[i,v[end]]\n",
    "        for j in 2:length(crowdDist)-1\n",
    "            crowdDist[v[j]] = crowdDist[v[j]] + (objs[i,v[j-1]] + objs[i,v[j+1]])\n",
    "        end\n",
    "    end\n",
    "    return crowdDist\n",
    "end"
   ]
  },
  {
   "cell_type": "markdown",
   "metadata": {},
   "source": [
    "### nds\n",
    "Returns the individuals sorted into dominated collections in descending order<br>\n",
    "sorting is performed based on values in the 'metric' array<br>\n",
    "@param metric: Values for sorting, Array{Int64,1}"
   ]
  },
  {
   "cell_type": "code",
   "execution_count": 78,
   "metadata": {},
   "outputs": [
    {
     "data": {
      "text/plain": [
       "nds (generic function with 1 method)"
      ]
     },
     "execution_count": 78,
     "metadata": {},
     "output_type": "execute_result"
    }
   ],
   "source": [
    "function nds(metric)\n",
    "    ndsArchive = Array{Int64,1}[]\n",
    "    dominated = zeros(Int64, length(metric))\n",
    "    dominates = Array{Int64}[]\n",
    "    tempnds = []\n",
    "    for i in 1:length(metric)\n",
    "        tempDom = []\n",
    "        for j in 1:length(metric)\n",
    "            if metric[i] > metric[j]\n",
    "                push!(tempDom, j)\n",
    "            elseif metric[i] < metric[j]\n",
    "                dominated[i] = dominated[i] + 1\n",
    "            end\n",
    "        end\n",
    "        push!(dominates, tempDom)\n",
    "        if dominated[i] == 0\n",
    "            push!(tempnds, i)\n",
    "        end\n",
    "    end\n",
    "    push!(ndsArchive, tempnds)\n",
    "    i = 1\n",
    "    while length(ndsArchive[i]) != 0\n",
    "        tempndsnext = []\n",
    "        tempndscurr = ndsArchive[i]\n",
    "        for j in 1:length(tempndscurr)\n",
    "            p = tempndscurr[j]\n",
    "            currSet = dominates[p]\n",
    "            for k in 1:length(currSet)\n",
    "                q = currSet[k]\n",
    "                dominated[q] = dominated[q] - 1\n",
    "                if dominated[q] == 0\n",
    "                    push!(tempndsnext, q)\n",
    "                end\n",
    "            end\n",
    "        end\n",
    "        push!(ndsArchive, tempndsnext)\n",
    "        i = i + 1\n",
    "    end\n",
    "    return ndsArchive\n",
    "end"
   ]
  },
  {
   "cell_type": "markdown",
   "metadata": {},
   "source": [
    "### complexity\n",
    "Returns the entropy of the consensus motif<br>\n",
    "@param DNA: set of DNA sequences, Array{String,1}<br>\n",
    "@param ind: Start positions, Array{Int64,1}<br>\n",
    "@param k: Length if motif, Int64<br>\n",
    "@param t: number of sequences, Int64<br>\n",
    "@param prob: Probability of finding each nucleotide in DNA<br>\n",
    "\n",
    "$$ score = \\frac{\\Sigma max_{b}(f_{b,i}) log_{2} max_{b}(f_{b,i}) }{p_{b}} $$"
   ]
  },
  {
   "cell_type": "code",
   "execution_count": 79,
   "metadata": {},
   "outputs": [
    {
     "data": {
      "text/plain": [
       "complexity (generic function with 1 method)"
      ]
     },
     "execution_count": 79,
     "metadata": {},
     "output_type": "execute_result"
    }
   ],
   "source": [
    "function complexity(DNA, t, k, ind, prob)\n",
    "    sample = Array{String,1}(undef, t)\n",
    "    for j=1:t\n",
    "        sample[j] = DNA[j][ind[j]:(ind[j]+k-1)]\n",
    "    end\n",
    "    den = 1\n",
    "    consensusDict = zeros(Int64, 4, 1)\n",
    "    for i=1:k\n",
    "        count = Dict('A'=>0,'C'=>0,'G'=>0,'T'=>0)\n",
    "        for j=1:t\n",
    "            count[sample[j][i]] = count[sample[j][i]] + 1\n",
    "        end\n",
    "        countN = []\n",
    "        for each in count\n",
    "            push!(countN, each[2])\n",
    "        end\n",
    "        max = 0    \n",
    "        consensus = i\n",
    "        for i in 1:4\n",
    "            if countN[i] > max\n",
    "                max = countN[i]\n",
    "                consensus = i\n",
    "            end\n",
    "        end\n",
    "        consensusDict[consensus] = consensusDict[consensus] + 1\n",
    "    end\n",
    "    consensusDict = consensusDict .+ 1\n",
    "    consensusDict = consensusDict ./ (k+4)\n",
    "    complexityScore = 0\n",
    "    for i in 1:4\n",
    "        temp = log(2, consensusDict[i]/prob[i]) * consensusDict[i]\n",
    "        complexityScore = complexityScore + temp\n",
    "    end\n",
    "    return complexityScore\n",
    "end"
   ]
  },
  {
   "cell_type": "markdown",
   "metadata": {},
   "source": [
    "### getNucProb\n",
    "Return probability of each nucleotide<br>\n",
    "@param DNA: Set of DNA sequences, Array{String, 1}<br>\n",
    "\n",
    "$$ prob_{b} = \\frac {instances\\ of\\ nucleotide\\ b} {n*t} $$"
   ]
  },
  {
   "cell_type": "code",
   "execution_count": 80,
   "metadata": {},
   "outputs": [
    {
     "data": {
      "text/plain": [
       "getNucProb (generic function with 1 method)"
      ]
     },
     "execution_count": 80,
     "metadata": {},
     "output_type": "execute_result"
    }
   ],
   "source": [
    "function getNucProb(DNA)\n",
    "    count = Dict('A'=>0,'C'=>0,'G'=>0,'T'=>0)\n",
    "    n = length(DNA[1])\n",
    "    t = length(DNA)\n",
    "    for i in 1:t\n",
    "        for j in 1:n\n",
    "            count[DNA[i][j]] = count[DNA[i][j]] + 1\n",
    "        end\n",
    "    end\n",
    "    countN = []\n",
    "    for each in count\n",
    "        push!(countN, each[2])\n",
    "    end\n",
    "    countSum = sum(countN)\n",
    "    prob = countN ./ countSum\n",
    "    return prob\n",
    "end"
   ]
  },
  {
   "cell_type": "markdown",
   "metadata": {},
   "source": [
    "### extract\n",
    "Given a list of lists, returns a single list containing individual elements<br>\n",
    "@param archive: List of lists, Array{Any,1}"
   ]
  },
  {
   "cell_type": "code",
   "execution_count": 81,
   "metadata": {},
   "outputs": [
    {
     "data": {
      "text/plain": [
       "extract (generic function with 1 method)"
      ]
     },
     "execution_count": 81,
     "metadata": {},
     "output_type": "execute_result"
    }
   ],
   "source": [
    "function extract(archive)\n",
    "    temp = []\n",
    "    for each in archive\n",
    "        append!(temp, each)\n",
    "    end\n",
    "    result = Array{Int64, 1}(undef, length(temp))\n",
    "    for i in 1:length(temp)\n",
    "        result[i] = temp[i]\n",
    "    end\n",
    "    return result\n",
    "end"
   ]
  },
  {
   "cell_type": "markdown",
   "metadata": {},
   "source": [
    "### moabc \n",
    "Implementation of the MOABC algorithm<br>\n",
    "@param DNA: Set of DNA sequences, Array{String, 1}<br>\n",
    "@param t: number of sequences, Int64<br>\n",
    "@param N: Size of population, Int64<br>\n",
    "@param MFE: Number of iterations, Int64<br>"
   ]
  },
  {
   "cell_type": "code",
   "execution_count": 88,
   "metadata": {},
   "outputs": [
    {
     "data": {
      "text/plain": [
       "moabc (generic function with 2 methods)"
      ]
     },
     "execution_count": 88,
     "metadata": {},
     "output_type": "execute_result"
    }
   ],
   "source": [
    "function moabc(DNA, t, N, MFE = 100)\n",
    "    ndsArchiveExtract = collect(1:N+3)\n",
    "    ndsArchive = []\n",
    "    objs=[]\n",
    "    prob = getNucProb(DNA)\n",
    "    eval = 0\n",
    "    n = length(DNA[1])\n",
    "    Bees = zeros(Int64, N + 3, t)\n",
    "    fitness = zeros(Float64, N + 3, 1)\n",
    "    complexityScore = zeros(Float64, N + 3, 1)\n",
    "    crowdDist = []\n",
    "    k = zeros(Int64, N+3, 1)\n",
    "    s = rand(trunc(Int64, N/2))*(64 - 7 + 1)\n",
    "    for i in 1:trunc(Int64, N/2)\n",
    "        s[i] = s[i] + 7\n",
    "        k[i] = trunc(Int64, s[i])\n",
    "    end\n",
    "    for i in 1:trunc(Int64, N/2)\n",
    "        ub = n - k[i] + 1\n",
    "        temp = genIndividual(t,ub)\n",
    "        Bees[i,:] = temp\n",
    "        fitness[i] = Score(DNA, t, k[i], Bees[i,:])\n",
    "        complexityScore[i] = complexity(DNA, t, k[i], Bees[i,:], prob)\n",
    "    end\n",
    "    best = 1\n",
    "    while eval < MFE\n",
    "        for i in 1:trunc(Int64, N/2)     # Employee look around phase\n",
    "            ub = n - k[i] + 1\n",
    "            temp = employeeLookAround(copy(Bees[i,:]), t, ub)\n",
    "            tempScore = Score(DNA, t, k[i], temp)\n",
    "            tempComplexity = complexity(DNA, t, k[i], temp, prob)\n",
    "            if (tempScore > fitness[i])\n",
    "                Bees[i,:] = temp\n",
    "                fitness[i] = tempScore\n",
    "                complexityScore[i] = tempComplexity\n",
    "            end\n",
    "        end\n",
    "        fitnessSum = sum(fitness[1:trunc(Int64, N/2)])\n",
    "        probArray = fitness[1:trunc(Int64, N/2)] ./ fitnessSum\n",
    "        pdfArray = zeros(Float64, trunc(Int64, N/2), 1)\n",
    "        for i in 1:trunc(Int64, N/2)\n",
    "            pdfArray[i] = sum(probArray[1:i])\n",
    "        end\n",
    "        for i in trunc(Int64, N/2)+1:N      # onlooker phase\n",
    "            p = rand()\n",
    "            final = 1                       # employee that has higher fitness has more chance to undergo mutation\n",
    "            for i in 1:length(pdfArray)\n",
    "                if (p < pdfArray[i])\n",
    "                    final = i\n",
    "                    break\n",
    "                end\n",
    "            end\n",
    "            k[i] = k[final]\n",
    "            ub = n - k[i] + 1\n",
    "            temp = employeeLookAround(copy(Bees[final,:]), t, ub)\n",
    "            tempScore = Score(DNA, t, k[i], temp)\n",
    "            tempComplexity = complexity(DNA, t, k[i], temp, prob)\n",
    "            if (tempScore > fitness[final])  # Greedy selection\n",
    "                Bees[i,:] = temp\n",
    "                fitness[i] = tempScore\n",
    "                complexityScore[i] = complexity(DNA, t, k[i], Bees[i,:], prob)\n",
    "            else\n",
    "                Bees[i,:] = copy(Bees[final,:])\n",
    "                fitness[i] = fitness[final]\n",
    "                complexityScore[i] = complexityScore[final]\n",
    "            end\n",
    "        end\n",
    "        for i in N+1:N+3        # scout phase, no negative feedback\n",
    "            k[i] = trunc(Int64, rand()*(64 - 7 + 1) + 7)\n",
    "            ub = n - k[i] + 1\n",
    "            temp = genIndividual(t,ub)\n",
    "            Bees[i,:] = temp\n",
    "            fitness[i] = Score(DNA, t, k[i], Bees[i,:])\n",
    "            complexityScore[i] = complexity(DNA, t, k[i], Bees[i,:], prob)\n",
    "        end\n",
    "        objs = zeros(Float64, 3, N+3)\n",
    "        objs[1,:] = fitness\n",
    "        kTemp = k ./ 64\n",
    "        kTemp = kTemp\n",
    "        objs[2,:] = kTemp\n",
    "        objs[3,:] = complexityScore\n",
    "        crowdDist = crowdingDist(objs)\n",
    "        ndsArchive = nds(crowdDist)\n",
    "        ndsArchiveExtract = extract(ndsArchive)\n",
    "        k[:] = k[ndsArchiveExtract]       # rearrange population\n",
    "        fitness[:] = fitness[ndsArchiveExtract]\n",
    "        complexityScore[:] = complexityScore[ndsArchiveExtract]\n",
    "        #println(Bees)\n",
    "        #println(crowdDist)\n",
    "        #println(ndsArchive)\n",
    "        #println(ndsArchiveExtract)\n",
    "        for i in 1:size(Bees)[2]\n",
    "            Bees[:,i] = Bees[:,i][ndsArchiveExtract]\n",
    "        end\n",
    "        #println(Bees)\n",
    "        best = 1\n",
    "        eval = eval + 1\n",
    "    end\n",
    "    println(k[best])\n",
    "    println(fitness[best])\n",
    "    #println(complexityScore[best])\n",
    "    #println(Bees[best,:])\n",
    "    answer = getMotif(DNA, Bees[best,:], k[best], t)\n",
    "    consensus(DNA, t, k[best], Bees[best,:])\n",
    "    return answer\n",
    "end"
   ]
  },
  {
   "cell_type": "markdown",
   "metadata": {},
   "source": [
    "### generateInitialPopulation\n",
    "Returns intial massesfor mogsa<br>\n",
    "@param DNA: Set of DNA sequences, Array{String, 1}<br>\n",
    "@param k: array of motif lengths, Array{Int64, 1}<br>\n",
    "@param t: number of sequences, Int64<br>\n",
    "@param N: Size of population, Int64<br>"
   ]
  },
  {
   "cell_type": "code",
   "execution_count": 89,
   "metadata": {},
   "outputs": [
    {
     "data": {
      "text/plain": [
       "generateInitialPopulation (generic function with 1 method)"
      ]
     },
     "execution_count": 89,
     "metadata": {},
     "output_type": "execute_result"
    }
   ],
   "source": [
    "function generateInitialPopulation(DNA,k, t, N)\n",
    "    startIndices = Array{Int64}(undef,t,N)\n",
    "    for i=1:t\n",
    "        for j=1:N\n",
    "            sIndex = rand(1:length(DNA[i])-k[j]-1)\n",
    "            startIndices[i, j] = sIndex\n",
    "        end\n",
    "    end\n",
    "    return startIndices\n",
    "end"
   ]
  },
  {
   "cell_type": "markdown",
   "metadata": {},
   "source": [
    "### mogsa\n",
    "Implementation of the MOGSA algorithm<br>\n",
    "@param DNA: Set of DNA sequences, Array{String, 1}<br>\n",
    "@param t: number of sequences, Int64<br>\n",
    "@param N: Size of population, Int64<br>\n",
    "@param MFE: Number of iterations, Int64<br>"
   ]
  },
  {
   "cell_type": "code",
   "execution_count": 90,
   "metadata": {},
   "outputs": [
    {
     "data": {
      "text/plain": [
       "mogsa (generic function with 2 methods)"
      ]
     },
     "execution_count": 90,
     "metadata": {},
     "output_type": "execute_result"
    }
   ],
   "source": [
    "using LinearAlgebra\n",
    "\n",
    "function mogsa(DNA, t, N, timeLimit=200)\n",
    "    ndsArchive = Array{Int64,1}[]\n",
    "    currentTime = 0\n",
    "    kBest = N\n",
    "    n = length(DNA[1])\n",
    "    f = zeros(Float64, t, N)\n",
    "    acc = Array{Float64}(undef, t, N)\n",
    "    vel = zeros(Float64, t, N)\n",
    "    k = zeros(Int64, 1, N)\n",
    "    m = zeros(Float64, 1, N)\n",
    "    M = zeros(Float64, 1, N)\n",
    "    fitness = zeros(Float64, 1, N)\n",
    "    comp = zeros(Float64, 1, N)\n",
    "    for i=1:N\n",
    "        k[i] = rand(7:64)\n",
    "    end\n",
    "    #print(k)\n",
    "    x = generateInitialPopulation(DNA,k, t, N)\n",
    "    G = 100\n",
    "    alpha = 20\n",
    "    epsilon = 0.1\n",
    "           \n",
    "    while(currentTime < timeLimit)\n",
    "        #print(currentTime)\n",
    "        for i=1:N\n",
    "            fitness[i] = Score(DNA, t, k[i], x[1:t,i])\n",
    "        end\n",
    "        prob = getNucProb(DNA)\n",
    "        for i=1:N\n",
    "            comp[i] = complexity(DNA, t, k[i], x[1:t,i], prob)\n",
    "        end\n",
    "        \n",
    "        objs = zeros(Float64, 3, N)\n",
    "        #println(prob)\n",
    "        objs[1,:] = k ./ 64\n",
    "        objs[2,:] = fitness\n",
    "        objs[3,:] = comp\n",
    "        \n",
    "        #println(objs[3,:])\n",
    "        crowdDist = crowdingDist(objs)\n",
    "        ndsArchive = nds(crowdDist)\n",
    "        ndsArchiveExtract = extract(ndsArchive)\n",
    "        k[:] = k[ndsArchiveExtract]\n",
    "        fitness[:] = fitness[ndsArchiveExtract]\n",
    "        comp[:] = comp[ndsArchiveExtract]\n",
    "        for i in 1:size(x)[1]\n",
    "            x[i,:] = x[i,:][ndsArchiveExtract]\n",
    "            f[i,:] = f[i,:][ndsArchiveExtract]\n",
    "            acc[i,:] = acc[i,:][ndsArchiveExtract]\n",
    "            vel[i,:] = vel[i,:][ndsArchiveExtract]\n",
    "        end\n",
    "        #println(p)\n",
    "        \n",
    "        #Updating G, Best and Worst\n",
    "        G = G * exp((-1 * alpha * currentTime)/timeLimit)\n",
    "        best = maximum(fitness)\n",
    "        worst = minimum(fitness)\n",
    "        #println(m)\n",
    "        #println(best, ' ', worst)\n",
    "        #Calculate mass of each individual\n",
    "        for i=1:N\n",
    "            m[i] = (fitness[i] - worst)/(best - worst)\n",
    "        end\n",
    "        #println(m)\n",
    "        sumOfMass = sum(m)\n",
    "        for i=1:N\n",
    "            M[i] = m[i]/sumOfMass\n",
    "        end\n",
    "        #println(M)\n",
    "        #Calculate force and acceleration on each individual 63\n",
    "        for d=1:t\n",
    "            fTemp = zeros(Float64,N,N)\n",
    "            for i=1:N\n",
    "                for j=1:kBest\n",
    "                    r = norm(x[d,i]-x[d,j])\n",
    "                    fTemp[i,j] = (G * ((M[i] * M[j])/(r + epsilon)) * (x[d,i]-x[d,j]))\n",
    "                end\n",
    "                #println(fTemp)\n",
    "                for j=1:kBest\n",
    "                    if j!=i\n",
    "                       f[d,i] = f[d,i] + rand(0:1) * fTemp[i,j] \n",
    "                    end\n",
    "                end\n",
    "                acc[d,i] = f[d,i]/(M[i] + 0.00001)\n",
    "            end\n",
    "        end\n",
    "        #println(acc)\n",
    "        #Calculate velocity and position of each individual\n",
    "        #print(vel)\n",
    "        for d=1:t\n",
    "            for i=1:N\n",
    "                vel[d,i] = rand(0:1) * vel[d,i] + acc[d,i]\n",
    "                temp = convert(Int, floor(x[d,i] + vel[d,i]))\n",
    "                if (temp < 1) || (temp > n-k[i]-1)\n",
    "                    x[d,i] = x[d,i]\n",
    "                else\n",
    "                    x[d, i] = temp\n",
    "                end\n",
    "            end\n",
    "        end\n",
    "        #print(x)\n",
    "        #print(NDSArchive)\n",
    "        kBest = kBest - length(ndsArchive[end-1])\n",
    "        #print(kbest)\n",
    "        currentTime = currentTime + 1\n",
    "    end\n",
    "    #Print Motifs\n",
    "    #println(k[ndsArchive[1]])\n",
    "    #println(transpose(x[:,ndsArchive[1]]))\n",
    "    println(k[ndsArchive[1]][1])\n",
    "    println(fitness[ndsArchive[1]][1])\n",
    "    consensus(DNA, t, k[ndsArchive[1]][1], x[:,ndsArchive[1]])\n",
    "    return getMotif(DNA, transpose(x[:,ndsArchive[1]]), k[ndsArchive[1]][1], t)\n",
    "end"
   ]
  },
  {
   "cell_type": "markdown",
   "metadata": {},
   "source": [
    "### mmoabc \n",
    "Implementation of the MOABC algorithm with constraints on scouts<br>\n",
    "@param DNA: Set of DNA sequences, Array{String, 1}<br>\n",
    "@param t: number of sequences, Int64<br>\n",
    "@param N: Size of population, Int64<br>\n",
    "@param MFE: Number of iterations, Int64<br>"
   ]
  },
  {
   "cell_type": "code",
   "execution_count": 91,
   "metadata": {},
   "outputs": [
    {
     "data": {
      "text/plain": [
       "mmoabc (generic function with 2 methods)"
      ]
     },
     "execution_count": 91,
     "metadata": {},
     "output_type": "execute_result"
    }
   ],
   "source": [
    "function mmoabc(DNA, t, N, MFE = 100)\n",
    "    ndsArchiveExtract = collect(1:N+3)\n",
    "    ndsArchive = []\n",
    "    prob = getNucProb(DNA)\n",
    "    eval = 0\n",
    "    n = length(DNA[1])\n",
    "    Bees = zeros(Int64, N + 3, t)\n",
    "    fitness = zeros(Float64, N + 3, 1)\n",
    "    complexityScore = zeros(Float64, N + 3, 1)\n",
    "    crowdDist = []\n",
    "    k = zeros(Int64, N+3, 1)\n",
    "    s = rand(trunc(Int64, N/2))*(64 - 7 + 1)\n",
    "    for i in 1:trunc(Int64, N/2)\n",
    "        s[i] = s[i] + 7\n",
    "        k[i] = trunc(Int64, s[i])\n",
    "    end\n",
    "    for i in 1:trunc(Int64, N/2)        # Generate initial population of employees\n",
    "        ub = n - k[i] + 1\n",
    "        temp = genIndividual(t,ub)\n",
    "        Bees[i,:] = temp\n",
    "        fitness[i] = Score(DNA, t, k[i], Bees[i,:])\n",
    "        complexityScore[i] = complexity(DNA, t, k[i], Bees[i,:], prob)\n",
    "    end\n",
    "    best = 1\n",
    "    while eval < MFE\n",
    "        for i in 1:trunc(Int64, N/2)     # Employee phase\n",
    "            ub = n - k[i] + 1\n",
    "            temp = employeeLookAround(copy(Bees[i,:]), t, ub)\n",
    "            tempScore = Score(DNA, t, k[i], temp)\n",
    "            tempComplexity = complexity(DNA, t, k[i], temp, prob)\n",
    "            if (tempScore > fitness[i])\n",
    "                Bees[i,:] = temp\n",
    "                fitness[i] = tempScore\n",
    "                complexityScore[i] = tempComplexity\n",
    "            end\n",
    "        end\n",
    "        fitnessSum = sum(fitness[1:trunc(Int64, N/2)])\n",
    "        probArray = fitness[1:trunc(Int64, N/2)] ./ fitnessSum\n",
    "        pdfArray = zeros(Float64, trunc(Int64, N/2), 1)\n",
    "        for i in 1:trunc(Int64, N/2)\n",
    "            pdfArray[i] = sum(probArray[1:i])\n",
    "        end\n",
    "        for i in trunc(Int64, N/2)+1:N      # onlooker phase\n",
    "            p = rand()                      # Higher the fitness of the individual,\n",
    "                                            # more likely is it to be selected for mutation\n",
    "            final = 1\n",
    "            for i in 1:length(pdfArray)\n",
    "                if (p < pdfArray[i])\n",
    "                    final = i\n",
    "                    break\n",
    "                end\n",
    "            end\n",
    "            k[i] = k[final]\n",
    "            ub = n - k[i] + 1\n",
    "            temp = employeeLookAround(copy(Bees[final,:]), t, ub)\n",
    "            tempScore = Score(DNA, t, k[i], temp)\n",
    "            tempComplexity = complexity(DNA, t, k[i], temp, prob)\n",
    "            if (tempScore > fitness[final])           # greedy selection\n",
    "                Bees[i,:] = temp\n",
    "                fitness[i] = tempScore\n",
    "                complexityScore[i] = complexity(DNA, t, k[i], Bees[i,:], prob)\n",
    "            else\n",
    "                Bees[i,:] = copy(Bees[final,:])\n",
    "                fitness[i] = fitness[final]\n",
    "                complexityScore[i] = complexityScore[final]\n",
    "            end\n",
    "        end\n",
    "        maxFitness = argmax(fitness).I[1]\n",
    "        thresh = (maximum(fitness) + minimum(fitness)) / 2 # threshold to generate negative feedback\n",
    "        for i in N+1:N+3        # scout phase\n",
    "            kTemp= trunc(Int64, rand()*(64 - 7 + 1) + 7)\n",
    "            ub = n - kTemp + 1\n",
    "            temp = genIndividual(t,ub)\n",
    "            tempScore = Score(DNA, t, kTemp, temp)\n",
    "            if tempScore > thresh\n",
    "                Bees[i,:] = temp\n",
    "                k[i] = kTemp\n",
    "            else\n",
    "                Bees[i,:] = Bees[maxFitness,:]\n",
    "                k[i] = k[maxFitness]\n",
    "            end\n",
    "            fitness[i] = Score(DNA, t, k[i], Bees[i,:])\n",
    "            complexityScore[i] = complexity(DNA, t, k[i], Bees[i,:], prob)\n",
    "        end\n",
    "        \n",
    "        objs = zeros(Float64, 3, N+3)\n",
    "        objs[1,:] = fitness\n",
    "        kTemp = k ./ 64\n",
    "        kTemp = kTemp\n",
    "        objs[2,:] = kTemp\n",
    "        objs[3,:] = complexityScore \n",
    "        crowdDist = crowdingDist(objs)\n",
    "        ndsArchive = nds(crowdDist)\n",
    "        ndsArchiveExtract = extract(ndsArchive)\n",
    "        k[:] = k[ndsArchiveExtract]         # rearranging the population\n",
    "        fitness[:] = fitness[ndsArchiveExtract]\n",
    "        complexityScore[:] = complexityScore[ndsArchiveExtract]\n",
    "        #println(Bees)\n",
    "        #println(crowdDist)\n",
    "        #println(ndsArchive)\n",
    "        #println(ndsArchiveExtract)\n",
    "        for i in 1:size(Bees)[2]\n",
    "            Bees[:,i] = Bees[:,i][ndsArchiveExtract]\n",
    "        end\n",
    "        #println(Bees)\n",
    "        best = 1\n",
    "        eval = eval + 1\n",
    "    end\n",
    "    println(k[best])\n",
    "    println(fitness[best])\n",
    "    #println(complexityScore[best])\n",
    "    #println(Bees[best,:])\n",
    "    consensus(DNA, t, k[best], Bees[best,:])\n",
    "    answer = getMotif(DNA, Bees[best,:], k[best], t)\n",
    "    return answer\n",
    "end"
   ]
  },
  {
   "cell_type": "code",
   "execution_count": 92,
   "metadata": {},
   "outputs": [
    {
     "name": "stdout",
     "output_type": "stream",
     "text": [
      "200\n",
      "3.75\n",
      "37\n",
      "4.648648648648648\n",
      "CGGGCCGGGCGCAGGGCCGGCGGGCCGCGCCCCCGCG\n",
      "  1.603345 seconds (15.95 M allocations: 1.802 GiB, 15.72% gc time)\n",
      "CGGGCCGGGCGCAGGGCCGGCGGGCCGCGCCGGGGCG\n",
      "CGGGCCGGGCGCAGGGCCGGCGGGCCGCGCTCCCGCC\n",
      "CGGGCCGGGCGCAGGGCCGGCGGGCCGCGCGCCCGTA\n",
      "CGGGCCGGGCGCAGGGCCGGCGGGCCGCGCCCCCAAG\n",
      "CGGGCCGGGCGCAGGGCCGGCGGGCCGCGCCTCGGCC\n",
      "64\n",
      "3.0\n",
      "CGCGGGCCGCGGGGCGCGGGGGCGGGCAGGGCCGGCCGGCCCCGGGGCGCGGCGGGCGCGACGG\n",
      "  2.131817 seconds (15.83 M allocations: 2.173 GiB, 13.10% gc time)\n",
      "GAGTGCCCGGAGGCCGCGGGGTCGGGCGCACCCGGCCTTCCACGGGTCGCCAGGGCGGCGAGGG\n",
      "CCCGCGCTGCCGGCCCGTGAGTCCAGCAGCCTCGGCAGGCGCCGGCAGGCGGCCGCGGCGGCCC\n",
      "CCCCCGGTGAGGAGGGCCCGTGCCGCCGGGGGGTCCCGCACGGGGTTTCCATCGAGCCACATGG\n",
      "AGCCTTCCACGGGTCGCCAGGGCGGCGAGGGCGCGTCGGGCCGGGCGCAGGGCCGGCGGGCCGC\n",
      "CGGGGGCCCTGGCGGGGGGGGGATGACTCTTCCACGGGTCGCCAGGGCGGCGAGGGCGCGTCGG\n",
      "62\n",
      "4.370967741935484\n",
      "CGGCGAGGGCGCGTCGGGCCGGGCGCAGGGCCGGCGGGCCGCGCCCCCGCGTGGGAGGCCCC\n",
      "  2.414673 seconds (26.10 M allocations: 2.961 GiB, 16.46% gc time)\n",
      "CGGCGAGGGCGCGTCGGGCCGGGCGCAGGGCCGGCGGGCCGCGCCGGGGCGGGACTTACCCC\n",
      "CGGCGAGGGCGCGTCGGGCCGGGCGCAGGGCCGGCGGGCCGCGCTCCCGCCCCCCACCCCTC\n",
      "CGGCGAGGGCGCGTCGGGCCGGGCGCAGGGCCGGCGGGCCGCGCGCCCGTAAGGGGGGCCCC\n",
      "CGGCGAGGGCGCGTCGGGCCGGGCGCAGGGCCGGCGGGCCGCGCCCCCAAGTCCTGGGGCCA\n",
      "CGGCGAGGGCGCGTCGGGCCGGGCGCAGGGCCGGCGGGCCGCGCCTCGGCCTGGGACTGGCG\n"
     ]
    }
   ],
   "source": [
    "open(\"test1.txt\") do file\n",
    "    x = readline(file)\n",
    "    line1 = split(x,\" \")\n",
    "    t = parse(Int64, line1[1])\n",
    "    DNA = Array{String,1}(undef,t)\n",
    "    for i in 1:t\n",
    "        DNA[i] = readline(file)\n",
    "    end\n",
    "    println(length(DNA[1]))\n",
    "    #@time Motif1 = abc(DNA, k, t, N, 50, 500)\n",
    "    #for each in Motif1\n",
    "    #    println(each)\n",
    "    #end\n",
    "    println(t*3/4)\n",
    "    @time Motif1 = moabc(DNA, t, 200, 200)\n",
    "    for each in Motif1\n",
    "        println(each)\n",
    "    end\n",
    "    @time Motif2 = mogsa(DNA, t, 200, 200)\n",
    "    for each in Motif2\n",
    "        println(each)\n",
    "    end\n",
    "    @time Motif3 = mmoabc(DNA, t, 200, 200)\n",
    "    for each in Motif3\n",
    "        println(each)\n",
    "    end\n",
    "end"
   ]
  },
  {
   "cell_type": "code",
   "execution_count": null,
   "metadata": {},
   "outputs": [],
   "source": []
  },
  {
   "cell_type": "code",
   "execution_count": 87,
   "metadata": {},
   "outputs": [
    {
     "ename": "ErrorException",
     "evalue": "cannot assign variable Base.count from module Main",
     "output_type": "error",
     "traceback": [
      "cannot assign variable Base.count from module Main",
      "",
      "Stacktrace:",
      " [1] top-level scope at In[87]:1"
     ]
    }
   ],
   "source": [
    "count = Dict('A'=>5,'C'=>0,'G'=>0,'T'=>0)"
   ]
  },
  {
   "cell_type": "code",
   "execution_count": 23,
   "metadata": {},
   "outputs": [
    {
     "data": {
      "text/plain": [
       "'A': ASCII/Unicode U+0041 (category Lu: Letter, uppercase)"
      ]
     },
     "execution_count": 23,
     "metadata": {},
     "output_type": "execute_result"
    }
   ],
   "source": [
    "argmax(count)"
   ]
  },
  {
   "cell_type": "code",
   "execution_count": null,
   "metadata": {},
   "outputs": [],
   "source": []
  }
 ],
 "metadata": {
  "@webio": {
   "lastCommId": "26c2108ce1364b6e875bb7c346c56f2f",
   "lastKernelId": "f97b5783-aacc-4938-9deb-a44cc43d7963"
  },
  "kernelspec": {
   "display_name": "Julia 1.0.0",
   "language": "julia",
   "name": "julia-1.0"
  },
  "language_info": {
   "file_extension": ".jl",
   "mimetype": "application/julia",
   "name": "julia",
   "version": "1.0.0"
  }
 },
 "nbformat": 4,
 "nbformat_minor": 2
}
