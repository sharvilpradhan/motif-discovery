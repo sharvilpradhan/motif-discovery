{
 "cells": [
  {
   "cell_type": "code",
   "execution_count": 1,
   "metadata": {},
   "outputs": [
    {
     "data": {
      "text/plain": [
       "getProbs (generic function with 1 method)"
      ]
     },
     "execution_count": 1,
     "metadata": {},
     "output_type": "execute_result"
    }
   ],
   "source": [
    "function getProbs(weight)\n",
    "    probs = Array{Float64, 2}(undef, 4, 4)\n",
    "    pdf = Array{Float64, 2}(undef, 4, 4)\n",
    "    probs[1,2] = weight / 2\n",
    "    probs[1,3] = weight / 2\n",
    "    probs[4,2] = weight / 2\n",
    "    probs[4,3] = weight / 2\n",
    "    probs[2,1] = (1-weight) / 2\n",
    "    probs[2,4] = (1-weight) / 2\n",
    "    probs[3,1] = (1-weight) / 2\n",
    "    probs[3,4] = (1-weight) / 2\n",
    "    da = randn()*0.15 + 0.5\n",
    "    probs[1,1] = da * (1-weight)\n",
    "    probs[1,4] = (1-da) * (1-weight)\n",
    "    dt = randn()*0.15 + 0.5\n",
    "    probs[4,4] = dt * (1-weight)\n",
    "    probs[4,1] = (1-dt) * (1-weight)\n",
    "    dc = randn()*0.15 + 0.5\n",
    "    probs[2,2] = dc * (weight)\n",
    "    probs[2,3] = (1-dc) * (weight)\n",
    "    dg = randn()*0.15 + 0.5\n",
    "    probs[3,3] = dg * (weight)\n",
    "    probs[3,2] = (1-dg) * (weight)\n",
    "    for i in 1:4\n",
    "        for j in 1:4\n",
    "            pdf[i,j] = sum(probs[i,1:j])\n",
    "        end\n",
    "    end\n",
    "    return pdf\n",
    "end"
   ]
  },
  {
   "cell_type": "code",
   "execution_count": 2,
   "metadata": {
    "scrolled": true
   },
   "outputs": [
    {
     "data": {
      "text/plain": [
       "dnaGen (generic function with 1 method)"
      ]
     },
     "execution_count": 2,
     "metadata": {},
     "output_type": "execute_result"
    }
   ],
   "source": [
    "function dnaGen(n, weight)\n",
    "    transMat = getProbs(weight)\n",
    "    alphabet = ['A', 'C', 'G', 'T']\n",
    "    dnaSeq = \"\"\n",
    "    currState = trunc(Int8, rand()*4 + 1)\n",
    "    dnaSeq = dnaSeq * alphabet[currState]\n",
    "    for i in 2:n\n",
    "        uniDie = rand()\n",
    "        nextState = 1\n",
    "        for j in 1:4\n",
    "            if uniDie > transMat[currState,j]\n",
    "                nextState = nextState + 1\n",
    "            end\n",
    "        end\n",
    "        currState = nextState\n",
    "        dnaSeq = dnaSeq * alphabet[currState]\n",
    "    end\n",
    "    return dnaSeq\n",
    "end"
   ]
  },
  {
   "cell_type": "code",
   "execution_count": 7,
   "metadata": {},
   "outputs": [
    {
     "data": {
      "text/plain": [
       "seqGen (generic function with 1 method)"
      ]
     },
     "execution_count": 7,
     "metadata": {},
     "output_type": "execute_result"
    }
   ],
   "source": [
    "function seqGen(t, n, k, m)\n",
    "    DNA = []\n",
    "    DNAnew = []\n",
    "    prob = randn()*0.1 + 0.5\n",
    "    for i in 1:t\n",
    "        push!(DNA, dnaGen(n, prob))\n",
    "    end\n",
    "    println(DNA)\n",
    "    motif = dnaGen(k, prob)\n",
    "    println(motif)\n",
    "    ub = n - k + 1\n",
    "    for each in DNA\n",
    "        ind = rand(1:k, m)\n",
    "        replacement = []\n",
    "        for i in 1:m\n",
    "            push!(replacement, dnaGen(1,prob))\n",
    "        end\n",
    "        motifNew = motif\n",
    "        for i in 1:m\n",
    "            motifNew = motifNew[1:ind[i]-1]*replacement[i]*motifNew[ind[i]+1:end]\n",
    "        end\n",
    "        pos = rand(1:ub)\n",
    "        println(pos)\n",
    "        push!(DNAnew, each[1:pos-1]*motifNew*each[pos+length(motifNew):end])\n",
    "    end\n",
    "    return DNAnew\n",
    "end"
   ]
  },
  {
   "cell_type": "code",
   "execution_count": 10,
   "metadata": {},
   "outputs": [
    {
     "name": "stdout",
     "output_type": "stream",
     "text": [
      "Any[\"ACGGGGCGAGTGCCCGGAGGCCGCGGGGTCGGGCGCACCCGGCCCACGGCCACGCCCAAATGCGACGTGCAGCGCGCCGGGCGGCTCGTCCAGCCGGGCCGCCCCCCGGGGCGGGACTTACCCCCGCCGCCCCGCCTCCAACGGGTCGCAGGCGGGGGGGCCCGCCGTCGGACTAGCCCGCCCGGTCGCCCAAACGCCGG\", \"CGGCCGCCGACAACTCGGCCCACCCCCGCGCTGCCGGCCCGTGAGTCCAGCAGCCTCGGCAGGCGCCGGCAGGCGGCCGCGGCGGCCCAGGGAGGCCCCGTGCCCGGGGACCCGCCGGCCGCCGCCCCGCACGATTGCCGCCGCCGCGAGCAGTCCCGCCCCCCACCCCTCGCGCAGGCGGCGTTCGCTGCCGCCGCGCC\", \"GGGCGGTCGATCGGTGGGGGCCGCCTGGGGCGGGCGGGGGGCCCCGCGGCGCAGGCAGCCGCCGACGCTGTGTGGGATGCGACCTCCGGCGTTAGCCGAGCTGCGCCCCGGGCCGTGCCCGTAAGGGGGGCCCCCCGGTGAGGAGGGCCCGTGCCGCCGGGGGGTCCCGCACGGGGTTTCCATCGAGCCACATGGCTGCC\", \"GGGTCCCCCGGGGGGGGAGCCCCCCTGGCCCCCGCCACCCCCCCCCGGTCTACTCCGGGGCCCGGGGGGGGGCGGTACTACCCCCCCAAGTCCTGGGGCCACCCCCAATCCCGCCCGGGGGGGGCCCTCAGTCCGAGCCCCCGACCCCCGCCGCTCCAGCCCCCGGGCGCACACTCCGGTGCCCGGCCTGGCCCCGGGGG\", \"AGGCCGCACGGGGGGGCCCCCCGGGGGCCCTGGCGGGGGGGGGATGACTGTCCGCGGCGGGGACGGAGCGACGACCCGGGAGCGGCATGGCGGGGGGGCGCGGGGGACTGTTCTCGGCCTGGGACTGGCGGGCAGTGGAGGGTACCGAGCGGAGCCCCGCTGTCGGGCGGCGACCCGCCCCTGAGGGGGCCCGACCCGCC\"]\n",
      "CTTCCACGGGTCGCCAGGGCGGCGAGGGCGCGTCGGGCCGGGCGCAGGGCCGGCGGGCCGCGC\n",
      "44\n",
      "91\n",
      "54\n",
      "21\n",
      "50\n"
     ]
    },
    {
     "data": {
      "text/plain": [
       "5-element Array{Any,1}:\n",
       " \"ACGGGGCGAGTGCCCGGAGGCCGCGGGGTCGGGCGCACCCGGCCTTCCACGGGTCGCCAGGGCGGCGAGGGCGCGTCGGGCCGGGCGCAGGGCCGGCGGGCCGCGCCGGGGCGGGACTTACCCCCGCCGCCCCGCCTCCAACGGGTCGCAGGCGGGGGGGCCCGCCGTCGGACTAGCCCGCCCGGTCGCCCAAACGCCGG\"\n",
       " \"CGGCCGCCGACAACTCGGCCCACCCCCGCGCTGCCGGCCCGTGAGTCCAGCAGCCTCGGCAGGCGCCGGCAGGCGGCCGCGGCGGCCCAGCTTCCACGGGTCGCCAGGGCGGCGAGGGCGCGTCGGGCCGGGCGCAGGGCCGGCGGGCCGCGCTCCCGCCCCCCACCCCTCGCGCAGGCGGCGTTCGCTGCCGCCGCGCC\"\n",
       " \"GGGCGGTCGATCGGTGGGGGCCGCCTGGGGCGGGCGGGGGGCCCCGCGGCGCACTTCCACGGGTCGCCAGGGCGGCGAGGGCGCGTCGGGCCGGGCGCAGGGCCGGCGGGCCGCGCGCCCGTAAGGGGGGCCCCCCGGTGAGGAGGGCCCGTGCCGCCGGGGGGTCCCGCACGGGGTTTCCATCGAGCCACATGGCTGCC\"\n",
       " \"GGGTCCCCCGGGGGGGGAGCCTTCCACGGGTCGCCAGGGCGGCGAGGGCGCGTCGGGCCGGGCGCAGGGCCGGCGGGCCGCGCCCCCAAGTCCTGGGGCCACCCCCAATCCCGCCCGGGGGGGGCCCTCAGTCCGAGCCCCCGACCCCCGCCGCTCCAGCCCCCGGGCGCACACTCCGGTGCCCGGCCTGGCCCCGGGGG\"\n",
       " \"AGGCCGCACGGGGGGGCCCCCCGGGGGCCCTGGCGGGGGGGGGATGACTCTTCCACGGGTCGCCAGGGCGGCGAGGGCGCGTCGGGCCGGGCGCAGGGCCGGCGGGCCGCGCCTCGGCCTGGGACTGGCGGGCAGTGGAGGGTACCGAGCGGAGCCCCGCTGTCGGGCGGCGACCCGCCCCTGAGGGGGCCCGACCCGCC\""
      ]
     },
     "execution_count": 10,
     "metadata": {},
     "output_type": "execute_result"
    }
   ],
   "source": [
    "n = 200\n",
    "t = 5\n",
    "k = 63\n",
    "m = 0\n",
    "DNA = seqGen(t,n,k,m)"
   ]
  },
  {
   "cell_type": "code",
   "execution_count": 11,
   "metadata": {},
   "outputs": [],
   "source": [
    "open(\"test1.txt\", \"w\") do file\n",
    "    write(file, string(t))\n",
    "    write(file, \"\\n\")\n",
    "    for each in DNA\n",
    "        write(file, each)\n",
    "        write(file,\"\\n\")\n",
    "    end\n",
    "end"
   ]
  },
  {
   "cell_type": "code",
   "execution_count": null,
   "metadata": {},
   "outputs": [],
   "source": []
  }
 ],
 "metadata": {
  "@webio": {
   "lastCommId": "14b180ad139149a99fa10af0e06b6432",
   "lastKernelId": "bf92d5de-ae10-497d-8389-9114f989fc78"
  },
  "kernelspec": {
   "display_name": "Julia 1.0.0",
   "language": "julia",
   "name": "julia-1.0"
  },
  "language_info": {
   "file_extension": ".jl",
   "mimetype": "application/julia",
   "name": "julia",
   "version": "1.0.0"
  }
 },
 "nbformat": 4,
 "nbformat_minor": 2
}
