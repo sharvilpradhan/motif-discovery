{
 "cells": [
  {
   "cell_type": "code",
   "execution_count": 1,
   "metadata": {},
   "outputs": [
    {
     "data": {
      "text/plain": [
       "getMotif (generic function with 1 method)"
      ]
     },
     "execution_count": 1,
     "metadata": {},
     "output_type": "execute_result"
    }
   ],
   "source": [
    "function getMotif(DNA, ind, k, t)\n",
    "    sample = Array{String,1}(undef, t)\n",
    "    for j=1:t\n",
    "        sample[j] = DNA[j][ind[j]:(ind[j]+k-1)]\n",
    "    end\n",
    "    return sample\n",
    "end"
   ]
  },
  {
   "cell_type": "code",
   "execution_count": 2,
   "metadata": {},
   "outputs": [
    {
     "data": {
      "text/plain": [
       "Score (generic function with 1 method)"
      ]
     },
     "execution_count": 2,
     "metadata": {},
     "output_type": "execute_result"
    }
   ],
   "source": [
    "function Score(DNA, t, k, ind)\n",
    "    sample = Array{String,1}(undef, t)\n",
    "    for j=1:t\n",
    "        sample[j] = DNA[j][ind[j]:(ind[j]+k-1)]\n",
    "    end\n",
    "    score = 0\n",
    "    for i=1:k\n",
    "        count = Dict('A'=>0,'C'=>0,'G'=>0,'T'=>0)\n",
    "        for j=1:t\n",
    "            count[sample[j][i]] = count[sample[j][i]] + 1\n",
    "        end\n",
    "        max = 0\n",
    "        for each in count\n",
    "            if each[2]>max\n",
    "                max = each[2]\n",
    "            end\n",
    "        end\n",
    "        score = score+max\n",
    "    end\n",
    "    return score/k\n",
    "end"
   ]
  },
  {
   "cell_type": "code",
   "execution_count": 3,
   "metadata": {},
   "outputs": [
    {
     "data": {
      "text/plain": [
       "decreaseKbest (generic function with 1 method)"
      ]
     },
     "execution_count": 3,
     "metadata": {},
     "output_type": "execute_result"
    }
   ],
   "source": [
    "function decreaseKbest(NDSArchive)\n",
    "    lastValue = length(NDSArchive[end-1]) \n",
    "    return lastValue\n",
    "end"
   ]
  },
  {
   "cell_type": "code",
   "execution_count": 17,
   "metadata": {},
   "outputs": [
    {
     "data": {
      "text/plain": [
       "crowdingDist (generic function with 1 method)"
      ]
     },
     "execution_count": 17,
     "metadata": {},
     "output_type": "execute_result"
    }
   ],
   "source": [
    "function crowdingDist(objs)\n",
    "    crowdDist = zeros(Float64, size(objs)[2])\n",
    "    for i in 1:size(objs)[1]\n",
    "        v = sortperm(objs[i,:], rev=true)\n",
    "        crowdDist[v[1]] = crowdDist[v[1]] + 2*objs[i,v[1]]\n",
    "        crowdDist[v[end]] = crowdDist[v[end]] + 2*objs[i,v[end]]\n",
    "        for j in 2:length(crowdDist)-1\n",
    "            crowdDist[v[j]] = crowdDist[v[j]] + (objs[i,v[j-1]] + objs[i,v[j+1]])\n",
    "        end\n",
    "    end\n",
    "    return crowdDist\n",
    "end"
   ]
  },
  {
   "cell_type": "code",
   "execution_count": 5,
   "metadata": {},
   "outputs": [
    {
     "data": {
      "text/plain": [
       "nds (generic function with 1 method)"
      ]
     },
     "execution_count": 5,
     "metadata": {},
     "output_type": "execute_result"
    }
   ],
   "source": [
    "function nds(metric)\n",
    "    ndsArchive = Array{Int64,1}[]\n",
    "    dominated = zeros(Int64, length(metric))\n",
    "    dominates = Array{Int64}[]\n",
    "    tempnds = []\n",
    "    for i in 1:length(metric)\n",
    "        tempDom = []\n",
    "        for j in 1:length(metric)\n",
    "            if metric[i] > metric[j]\n",
    "                push!(tempDom, j)\n",
    "            elseif metric[i] < metric[j]\n",
    "                dominated[i] = dominated[i] + 1\n",
    "            end\n",
    "        end\n",
    "        push!(dominates, tempDom)\n",
    "        if dominated[i] == 0\n",
    "            push!(tempnds, i)\n",
    "        end\n",
    "    end\n",
    "    push!(ndsArchive, tempnds)\n",
    "    i = 1\n",
    "    while length(ndsArchive[i]) != 0\n",
    "        tempndsnext = []\n",
    "        tempndscurr = ndsArchive[i]\n",
    "        for j in 1:length(tempndscurr)\n",
    "            p = tempndscurr[j]\n",
    "            currSet = dominates[p]\n",
    "            for k in 1:length(currSet)\n",
    "                q = currSet[k]\n",
    "                dominated[q] = dominated[q] - 1\n",
    "                if dominated[q] == 0\n",
    "                    push!(tempndsnext, q)\n",
    "                end\n",
    "            end\n",
    "        end\n",
    "        push!(ndsArchive, tempndsnext)\n",
    "        i = i + 1\n",
    "    end\n",
    "    return ndsArchive\n",
    "end"
   ]
  },
  {
   "cell_type": "code",
   "execution_count": 6,
   "metadata": {},
   "outputs": [
    {
     "data": {
      "text/plain": [
       "getNucProb (generic function with 1 method)"
      ]
     },
     "execution_count": 6,
     "metadata": {},
     "output_type": "execute_result"
    }
   ],
   "source": [
    "function getNucProb(DNA)\n",
    "    count = Dict('A'=>0,'C'=>0,'G'=>0,'T'=>0)\n",
    "    n = length(DNA[1])\n",
    "    t = length(DNA)\n",
    "    for i in 1:t\n",
    "        for j in 1:n\n",
    "            count[DNA[i][j]] = count[DNA[i][j]] + 1\n",
    "        end\n",
    "    end\n",
    "    countN = []\n",
    "    for each in count\n",
    "        push!(countN, each[2])\n",
    "    end\n",
    "    countSum = sum(countN)\n",
    "    prob = countN ./ countSum\n",
    "    return prob\n",
    "end"
   ]
  },
  {
   "cell_type": "code",
   "execution_count": 7,
   "metadata": {},
   "outputs": [
    {
     "data": {
      "text/plain": [
       "complexity (generic function with 1 method)"
      ]
     },
     "execution_count": 7,
     "metadata": {},
     "output_type": "execute_result"
    }
   ],
   "source": [
    "function complexity(DNA, t, k, ind, prob)\n",
    "    sample = Array{String,1}(undef, t)\n",
    "    for j=1:t\n",
    "        sample[j] = DNA[j][ind[j]:(ind[j]+k-1)]\n",
    "    end\n",
    "    den = 1\n",
    "    consensusDict = zeros(Int64, 4, 1)\n",
    "    for i=1:k\n",
    "        count = Dict('A'=>0,'C'=>0,'G'=>0,'T'=>0)\n",
    "        for j=1:t\n",
    "            count[sample[j][i]] = count[sample[j][i]] + 1\n",
    "        end\n",
    "        countN = []\n",
    "        for each in count\n",
    "            push!(countN, each[2])\n",
    "        end\n",
    "        max = 0    \n",
    "        consensus = i\n",
    "        for i in 1:4\n",
    "            if countN[i] > max\n",
    "                max = countN[i]\n",
    "                consensus = i\n",
    "            end\n",
    "        end\n",
    "        consensusDict[consensus] = consensusDict[consensus] + 1\n",
    "    end\n",
    "    consensusDict = consensusDict .+ 1\n",
    "    consensusDict = consensusDict ./ (k+4)\n",
    "    complexityScore = 0\n",
    "    for i in 1:4\n",
    "        temp = log(2, consensusDict[i]/prob[i]) * consensusDict[i]\n",
    "        complexityScore = complexityScore + temp\n",
    "    end\n",
    "    return complexityScore\n",
    "end"
   ]
  },
  {
   "cell_type": "code",
   "execution_count": 8,
   "metadata": {},
   "outputs": [
    {
     "data": {
      "text/plain": [
       "generateInitialPopulation (generic function with 1 method)"
      ]
     },
     "execution_count": 8,
     "metadata": {},
     "output_type": "execute_result"
    }
   ],
   "source": [
    "function generateInitialPopulation(DNA,k, t, N)\n",
    "    startIndices = Array{Int64}(undef,t,N)\n",
    "    for i=1:t\n",
    "        for j=1:N\n",
    "            sIndex = rand(1:length(DNA[i])-k[j]-1)\n",
    "            startIndices[i, j] = sIndex\n",
    "        end\n",
    "    end\n",
    "    return startIndices\n",
    "end"
   ]
  },
  {
   "cell_type": "code",
   "execution_count": 9,
   "metadata": {},
   "outputs": [
    {
     "data": {
      "text/plain": [
       "genIndividual (generic function with 1 method)"
      ]
     },
     "execution_count": 9,
     "metadata": {},
     "output_type": "execute_result"
    }
   ],
   "source": [
    "function genIndividual(t, ub)\n",
    "    M = zeros(Int64, 1, t)\n",
    "    s = rand(t)*(ub)\n",
    "    for i in 1:t\n",
    "        s[i] = s[i] + 1\n",
    "        M[i] = trunc(Int64, s[i])\n",
    "    end\n",
    "    return M\n",
    "end"
   ]
  },
  {
   "cell_type": "code",
   "execution_count": 10,
   "metadata": {},
   "outputs": [
    {
     "data": {
      "text/plain": [
       "extract (generic function with 1 method)"
      ]
     },
     "execution_count": 10,
     "metadata": {},
     "output_type": "execute_result"
    }
   ],
   "source": [
    "function extract(archive)\n",
    "    temp = []\n",
    "    for each in archive\n",
    "        append!(temp, each)\n",
    "    end\n",
    "    result = Array{Int64, 1}(undef, length(temp))\n",
    "    for i in 1:length(temp)\n",
    "        result[i] = temp[i]\n",
    "    end\n",
    "    return result\n",
    "end"
   ]
  },
  {
   "cell_type": "code",
   "execution_count": 24,
   "metadata": {},
   "outputs": [
    {
     "data": {
      "text/plain": [
       "gsa (generic function with 2 methods)"
      ]
     },
     "execution_count": 24,
     "metadata": {},
     "output_type": "execute_result"
    }
   ],
   "source": [
    "using LinearAlgebra\n",
    "\n",
    "function gsa(DNA, t, N, timeLimit =100)\n",
    "    ndsArchive = Array{Int64,1}[]\n",
    "    currentTime = 0\n",
    "    kBest = N\n",
    "    n = length(DNA[1])\n",
    "    f = zeros(Float64, t, N)\n",
    "    acc = Array{Float64}(undef, t, N)\n",
    "    k = zeros(Int64, 1, N)\n",
    "    m = zeros(Float64, 1, N)\n",
    "    M = zeros(Float64, 1, N)\n",
    "    fitness = zeros(Float64, 1, N)\n",
    "    comp = zeros(Float64, 1, N)\n",
    "    for i=1:N\n",
    "        k[i] = rand(7:64)\n",
    "    end\n",
    "    #print(k)\n",
    "    x = generateInitialPopulation(DNA,k, t, N)\n",
    "    G = 100\n",
    "    alpha = 20\n",
    "    epsilon = 0.1\n",
    "    \n",
    "    while(currentTime < timeLimit)\n",
    "        #print(currentTime)\n",
    "        #println(x)\n",
    "        for i=1:N\n",
    "            fitness[i] = Score(DNA, t, k[i], x[1:t,i])\n",
    "        end\n",
    "        prob = getNucProb(DNA)\n",
    "        for i=1:N\n",
    "            comp[i] = complexity(DNA, t, k[i], x[1:t,i], prob)\n",
    "        end\n",
    "        \n",
    "        objs = zeros(Float64, 3, N)\n",
    "        #println(prob)\n",
    "        #println(comp)\n",
    "        #println(k ./ 64)\n",
    "        objs[1,:] = k ./ 64\n",
    "        objs[2,:] = fitness\n",
    "        objs[3,:] = comp\n",
    "        \n",
    "        #println(objs[3,:])\n",
    "        \n",
    "        p = crowdingDist(objs)\n",
    "        ndsArchive = nds(p)\n",
    "        ndsArchiveExtract = extract(ndsArchive)\n",
    "        #println(p)\n",
    "        \n",
    "        #Updating G, Best and Worst\n",
    "        G = G * exp((-1 * alpha * currentTime)/timeLimit)\n",
    "        best = maximum(fitness)\n",
    "        worst = minimum(fitness)\n",
    "        #println(m)\n",
    "        #println(best, ' ', worst)\n",
    "        #Calculate mass of each individual\n",
    "        for i=1:N\n",
    "            m[i] = (fitness[i])/(best)\n",
    "        end\n",
    "        #println(m)\n",
    "        sumOfMass = sum(m)\n",
    "        for i=1:N\n",
    "            M[i] = m[i]/sumOfMass\n",
    "        end\n",
    "        #println(M)\n",
    "        #Calculate force and acceleration on each individual 63\n",
    "        for d=1:t\n",
    "            fTemp = zeros(Float64,N,N)\n",
    "            for i=1:N\n",
    "                for j=1:kBest\n",
    "                    r = norm(x[d,i]-x[d,j])\n",
    "                    fTemp[i,j] = (G * ((M[i] * M[j])/(r + epsilon)) * (x[d,i]-x[d,j]))\n",
    "                end\n",
    "                #println(fTemp)\n",
    "                for j in kBest\n",
    "                    if j!=i\n",
    "                       f[d,i] = f[d,i] + fTemp[i,j] \n",
    "                    end\n",
    "                end\n",
    "                acc[d,i] = f[d,i]/(M[i])\n",
    "            end\n",
    "        end\n",
    "        #Calculate velocity and position of each individual\n",
    "        #print(vel)\n",
    "        #println(m)\n",
    "        vel = zeros(Float64, t, N)\n",
    "        for d=1:t\n",
    "            for i=1:N\n",
    "                #vel[d,i] = rand(0:1) * vel[d,i] + acc[d,i]\n",
    "                if acc[d,i] > 0\n",
    "                    vel[d,i] = acc[d,i]*(n - x[d,i])/sum(acc[d,:])\n",
    "                else\n",
    "                    vel[d,i] = acc[d,i]*(x[d,i]-1)/sum(acc[d,:])\n",
    "                end\n",
    "                tempXdi = convert(Int, floor(x[d,i] + vel[d,i]))\n",
    "            end\n",
    "        end\n",
    "        k[:] = k[ndsArchiveExtract]\n",
    "        fitness[:] = fitness[ndsArchiveExtract]\n",
    "        comp[:] = comp[ndsArchiveExtract]\n",
    "        for i in 1:size(x)[1]\n",
    "            x[i,:] = x[i,:][ndsArchiveExtract]\n",
    "        end\n",
    "        kBest = trunc(Int64, N/2)\n",
    "        #println(ndsArchive)\n",
    "        #println(kBest)\n",
    "        #println(currentTime)\n",
    "        #println(ndsArchive)\n",
    "        currentTime = currentTime + 1\n",
    "    end\n",
    "    #println(size(x))\n",
    "    #Print Motifs\n",
    "    println(transpose(x[:,ndsArchive[1]]))\n",
    "    println(ndsArchive[1])\n",
    "    println(k[ndsArchive[1]][1])\n",
    "    println(Score(DNA, t, k[ndsArchive[1]][1], transpose(x[:,ndsArchive[1]])))\n",
    "    return getMotif(DNA, transpose(x[:,ndsArchive[1]]), k[ndsArchive[1]][1], t)\n",
    "end"
   ]
  },
  {
   "cell_type": "code",
   "execution_count": 25,
   "metadata": {},
   "outputs": [
    {
     "name": "stdout",
     "output_type": "stream",
     "text": [
      "[63 110 92 100 26]\n",
      "[1]\n",
      "63\n",
      "3.1904761904761907\n",
      "  2.311979 seconds (19.18 M allocations: 3.029 GiB, 13.47% gc time)\n",
      "CGGCGAGGGCGCGTCGGGCCGGGCGCAGGGCCGGCGGGCCGCGCCGGGGCGGGACTTACCCCC\n",
      "CGGCGAGGGCGCGTCGGGCCGGGCGCAGGGCCGGCGGGCCGCGCTCCCGCCCCCCACCCCTCG\n",
      "CGGGCGCAGGGCCGGCGGGCCGCGCGCCCGTAAGGGGGGCCCCCCGGTGAGGAGGGCCCGTGC\n",
      "CACCCCCAATCCCGCCCGGGGGGGGCCCTCAGTCCGAGCCCCCGACCCCCGCCGCTCCAGCCC\n",
      "GGCCCTGGCGGGGGGGGGATGACTCTTCCACGGGTCGCCAGGGCGGCGAGGGCGCGTCGGGCC\n",
      "\n"
     ]
    }
   ],
   "source": [
    "open(\"test1.txt\") do file\n",
    "    x = readline(file)\n",
    "    line1 = split(x,\" \")\n",
    "    t = parse(Int64, line1[1])\n",
    "    DNA = Array{String,1}(undef,t)\n",
    "    for i in 1:t\n",
    "        DNA[i] = readline(file)\n",
    "    end\n",
    "    @time Motif1 = gsa(DNA, t, 200,250)\n",
    "    for each in Motif1\n",
    "        println(each)\n",
    "    end\n",
    "    println()\n",
    "end"
   ]
  },
  {
   "cell_type": "code",
   "execution_count": 316,
   "metadata": {},
   "outputs": [
    {
     "name": "stdout",
     "output_type": "stream",
     "text": [
      "search: \u001b[0m\u001b[1ms\u001b[22m\u001b[0m\u001b[1mi\u001b[22m\u001b[0m\u001b[1mg\u001b[22m\u001b[0m\u001b[1mn\u001b[22m \u001b[0m\u001b[1ms\u001b[22m\u001b[0m\u001b[1mi\u001b[22m\u001b[0m\u001b[1mg\u001b[22m\u001b[0m\u001b[1mn\u001b[22med \u001b[0m\u001b[1mS\u001b[22m\u001b[0m\u001b[1mi\u001b[22m\u001b[0m\u001b[1mg\u001b[22m\u001b[0m\u001b[1mn\u001b[22med \u001b[0m\u001b[1ms\u001b[22m\u001b[0m\u001b[1mi\u001b[22m\u001b[0m\u001b[1mg\u001b[22m\u001b[0m\u001b[1mn\u001b[22mbit \u001b[0m\u001b[1ms\u001b[22m\u001b[0m\u001b[1mi\u001b[22m\u001b[0m\u001b[1mg\u001b[22m\u001b[0m\u001b[1mn\u001b[22mificand Un\u001b[0m\u001b[1ms\u001b[22m\u001b[0m\u001b[1mi\u001b[22m\u001b[0m\u001b[1mg\u001b[22m\u001b[0m\u001b[1mn\u001b[22med un\u001b[0m\u001b[1ms\u001b[22m\u001b[0m\u001b[1mi\u001b[22m\u001b[0m\u001b[1mg\u001b[22m\u001b[0m\u001b[1mn\u001b[22med flip\u001b[0m\u001b[1ms\u001b[22m\u001b[0m\u001b[1mi\u001b[22m\u001b[0m\u001b[1mg\u001b[22m\u001b[0m\u001b[1mn\u001b[22m\n",
      "\n"
     ]
    },
    {
     "data": {
      "text/latex": [
       "\\begin{verbatim}\n",
       "sign(x)\n",
       "\\end{verbatim}\n",
       "Return zero if \\texttt{x==0} and $x/|x|$ otherwise (i.e., ±1 for real \\texttt{x}).\n",
       "\n"
      ],
      "text/markdown": [
       "```\n",
       "sign(x)\n",
       "```\n",
       "\n",
       "Return zero if `x==0` and $x/|x|$ otherwise (i.e., ±1 for real `x`).\n"
      ],
      "text/plain": [
       "\u001b[36m  sign(x)\u001b[39m\n",
       "\n",
       "  Return zero if \u001b[36mx==0\u001b[39m and \u001b[35mx/|x|\u001b[39m otherwise (i.e., ±1 for real \u001b[36mx\u001b[39m)."
      ]
     },
     "execution_count": 316,
     "metadata": {},
     "output_type": "execute_result"
    }
   ],
   "source": [
    "?sign"
   ]
  },
  {
   "cell_type": "code",
   "execution_count": 113,
   "metadata": {},
   "outputs": [
    {
     "data": {
      "text/plain": [
       "gsa (generic function with 2 methods)"
      ]
     },
     "execution_count": 113,
     "metadata": {},
     "output_type": "execute_result"
    }
   ],
   "source": []
  },
  {
   "cell_type": "code",
   "execution_count": 21,
   "metadata": {},
   "outputs": [],
   "source": [
    "#GCTACACAGTACATGGACATGCGGA"
   ]
  },
  {
   "cell_type": "code",
   "execution_count": null,
   "metadata": {},
   "outputs": [],
   "source": []
  },
  {
   "cell_type": "code",
   "execution_count": null,
   "metadata": {},
   "outputs": [],
   "source": []
  },
  {
   "cell_type": "code",
   "execution_count": null,
   "metadata": {},
   "outputs": [],
   "source": []
  }
 ],
 "metadata": {
  "@webio": {
   "lastCommId": "3fb5df69e0204c8b9c79e87925e01c6b",
   "lastKernelId": "4c2ae4a6-9d6c-4bd7-88b9-850e8f475a03"
  },
  "kernelspec": {
   "display_name": "Julia 1.0.0",
   "language": "julia",
   "name": "julia-1.0"
  },
  "language_info": {
   "file_extension": ".jl",
   "mimetype": "application/julia",
   "name": "julia",
   "version": "1.0.0"
  }
 },
 "nbformat": 4,
 "nbformat_minor": 2
}
